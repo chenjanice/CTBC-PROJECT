{
 "cells": [
  {
   "cell_type": "code",
   "execution_count": 1,
   "metadata": {},
   "outputs": [],
   "source": [
    "%matplotlib inline\n",
    "import matplotlib\n",
    "import matplotlib.pyplot as plt"
   ]
  },
  {
   "cell_type": "markdown",
   "metadata": {},
   "source": [
    "# S&P500 成分股\n",
    "\n",
    "# Yahoo Finance\n",
    "\n",
    "https://finance.yahoo.com/quote/CMG?p=CMG&.tsrc=fin-srch\n",
    "\n",
    "### Target\n",
    "\n",
    "1. Crawl the past price of the traget stock.\n",
    "\n",
    "2. Combine the dataset sysmatically. -> Generate the right dataframe format as an output.\n",
    "\n",
    "3. Compute the essential statistics with Python or R."
   ]
  },
  {
   "cell_type": "markdown",
   "metadata": {},
   "source": [
    "## Get S&P500 Stock Names"
   ]
  },
  {
   "cell_type": "code",
   "execution_count": 4,
   "metadata": {},
   "outputs": [
    {
     "data": {
      "text/plain": [
       "<Response [200]>"
      ]
     },
     "execution_count": 4,
     "metadata": {},
     "output_type": "execute_result"
    }
   ],
   "source": [
    "sp500_url = 'https://www.cnyes.com/usastock/hotprice.aspx?page=hot&kind=sp500'\n",
    "\n",
    "res = requests.get(sp500_url)\n",
    "res"
   ]
  },
  {
   "cell_type": "code",
   "execution_count": 5,
   "metadata": {},
   "outputs": [],
   "source": [
    "soup = BeautifulSoup(res.text, \"html.parser\")"
   ]
  },
  {
   "cell_type": "code",
   "execution_count": 6,
   "metadata": {},
   "outputs": [],
   "source": [
    "#id=\"ctl05_TBstock\"\n",
    "table = soup.find_all(\"table\")"
   ]
  },
  {
   "cell_type": "code",
   "execution_count": 7,
   "metadata": {},
   "outputs": [],
   "source": [
    "table = soup.find(id = \"ctl05_TBstock\")"
   ]
  },
  {
   "cell_type": "code",
   "execution_count": 8,
   "metadata": {},
   "outputs": [],
   "source": [
    "df_sp500 = pd.read_html(str(table))"
   ]
  },
  {
   "cell_type": "code",
   "execution_count": 9,
   "metadata": {},
   "outputs": [
    {
     "data": {
      "text/html": [
       "<div>\n",
       "<style scoped>\n",
       "    .dataframe tbody tr th:only-of-type {\n",
       "        vertical-align: middle;\n",
       "    }\n",
       "\n",
       "    .dataframe tbody tr th {\n",
       "        vertical-align: top;\n",
       "    }\n",
       "\n",
       "    .dataframe thead th {\n",
       "        text-align: right;\n",
       "    }\n",
       "</style>\n",
       "<table border=\"1\" class=\"dataframe\">\n",
       "  <thead>\n",
       "    <tr style=\"text-align: right;\">\n",
       "      <th></th>\n",
       "      <th>時間</th>\n",
       "      <th>代碼</th>\n",
       "      <th>名稱</th>\n",
       "      <th>成交價</th>\n",
       "      <th>漲跌</th>\n",
       "      <th>漲幅%</th>\n",
       "      <th>開盤</th>\n",
       "      <th>最高</th>\n",
       "      <th>最低</th>\n",
       "      <th>成交量</th>\n",
       "    </tr>\n",
       "  </thead>\n",
       "  <tbody>\n",
       "    <tr>\n",
       "      <th>0</th>\n",
       "      <td>00:00</td>\n",
       "      <td>A</td>\n",
       "      <td>安捷倫科技公司Agilent Technologies Inc</td>\n",
       "      <td>88.14</td>\n",
       "      <td>1.45</td>\n",
       "      <td>1.67</td>\n",
       "      <td>87.17</td>\n",
       "      <td>88.49</td>\n",
       "      <td>86.46</td>\n",
       "      <td>2394576</td>\n",
       "    </tr>\n",
       "    <tr>\n",
       "      <th>1</th>\n",
       "      <td>00:00</td>\n",
       "      <td>AAPL</td>\n",
       "      <td>蘋果APPLE INC</td>\n",
       "      <td>318.95</td>\n",
       "      <td>0.70</td>\n",
       "      <td>0.22</td>\n",
       "      <td>319.25</td>\n",
       "      <td>321.15</td>\n",
       "      <td>316.47</td>\n",
       "      <td>38393832</td>\n",
       "    </tr>\n",
       "    <tr>\n",
       "      <th>2</th>\n",
       "      <td>00:00</td>\n",
       "      <td>ABC</td>\n",
       "      <td>美源伯根公司AMERISOURCE BERGEN CORP</td>\n",
       "      <td>95.34</td>\n",
       "      <td>0.94</td>\n",
       "      <td>1.00</td>\n",
       "      <td>94.70</td>\n",
       "      <td>95.60</td>\n",
       "      <td>93.61</td>\n",
       "      <td>1582133</td>\n",
       "    </tr>\n",
       "    <tr>\n",
       "      <th>3</th>\n",
       "      <td>00:00</td>\n",
       "      <td>ABT</td>\n",
       "      <td>美國雅培公司ABBOTT LABORATORIES</td>\n",
       "      <td>94.92</td>\n",
       "      <td>2.82</td>\n",
       "      <td>3.06</td>\n",
       "      <td>92.90</td>\n",
       "      <td>95.59</td>\n",
       "      <td>90.75</td>\n",
       "      <td>10141091</td>\n",
       "    </tr>\n",
       "    <tr>\n",
       "      <th>4</th>\n",
       "      <td>00:00</td>\n",
       "      <td>ADBE</td>\n",
       "      <td>阿德寶軟體公司ADOBE SYSTEMS INC</td>\n",
       "      <td>386.60</td>\n",
       "      <td>6.77</td>\n",
       "      <td>1.78</td>\n",
       "      <td>382.62</td>\n",
       "      <td>389.05</td>\n",
       "      <td>377.07</td>\n",
       "      <td>5937467</td>\n",
       "    </tr>\n",
       "    <tr>\n",
       "      <th>...</th>\n",
       "      <td>...</td>\n",
       "      <td>...</td>\n",
       "      <td>...</td>\n",
       "      <td>...</td>\n",
       "      <td>...</td>\n",
       "      <td>...</td>\n",
       "      <td>...</td>\n",
       "      <td>...</td>\n",
       "      <td>...</td>\n",
       "      <td>...</td>\n",
       "    </tr>\n",
       "    <tr>\n",
       "      <th>407</th>\n",
       "      <td>00:00</td>\n",
       "      <td>XRAY</td>\n",
       "      <td>登士派國際公司DENTSPLY INTERNAT INC</td>\n",
       "      <td>46.52</td>\n",
       "      <td>-0.47</td>\n",
       "      <td>-1.00</td>\n",
       "      <td>46.61</td>\n",
       "      <td>46.87</td>\n",
       "      <td>45.81</td>\n",
       "      <td>2465212</td>\n",
       "    </tr>\n",
       "    <tr>\n",
       "      <th>408</th>\n",
       "      <td>00:00</td>\n",
       "      <td>XRX</td>\n",
       "      <td>全錄XEROX CORP</td>\n",
       "      <td>15.88</td>\n",
       "      <td>-0.93</td>\n",
       "      <td>-5.53</td>\n",
       "      <td>16.61</td>\n",
       "      <td>16.70</td>\n",
       "      <td>15.82</td>\n",
       "      <td>20755308</td>\n",
       "    </tr>\n",
       "    <tr>\n",
       "      <th>409</th>\n",
       "      <td>06:34</td>\n",
       "      <td>YHOO</td>\n",
       "      <td>雅虎YAHOO! INC</td>\n",
       "      <td>123.47</td>\n",
       "      <td>0.00</td>\n",
       "      <td>0.00</td>\n",
       "      <td>123.47</td>\n",
       "      <td>123.47</td>\n",
       "      <td>123.47</td>\n",
       "      <td>0</td>\n",
       "    </tr>\n",
       "    <tr>\n",
       "      <th>410</th>\n",
       "      <td>00:00</td>\n",
       "      <td>YUM</td>\n",
       "      <td>百勝餐飲集團YUM! BRANDS INC</td>\n",
       "      <td>89.73</td>\n",
       "      <td>-1.12</td>\n",
       "      <td>-1.23</td>\n",
       "      <td>90.28</td>\n",
       "      <td>90.92</td>\n",
       "      <td>88.51</td>\n",
       "      <td>14610238</td>\n",
       "    </tr>\n",
       "    <tr>\n",
       "      <th>411</th>\n",
       "      <td>00:00</td>\n",
       "      <td>ZION</td>\n",
       "      <td>Zion銀行ZIONS BANCORP</td>\n",
       "      <td>32.90</td>\n",
       "      <td>-1.12</td>\n",
       "      <td>-3.29</td>\n",
       "      <td>33.21</td>\n",
       "      <td>33.90</td>\n",
       "      <td>32.87</td>\n",
       "      <td>4209423</td>\n",
       "    </tr>\n",
       "  </tbody>\n",
       "</table>\n",
       "<p>412 rows × 10 columns</p>\n",
       "</div>"
      ],
      "text/plain": [
       "        時間    代碼                               名稱     成交價    漲跌   漲幅%      開盤  \\\n",
       "0    00:00     A  安捷倫科技公司Agilent Technologies Inc   88.14  1.45  1.67   87.17   \n",
       "1    00:00  AAPL                      蘋果APPLE INC  318.95  0.70  0.22  319.25   \n",
       "2    00:00   ABC    美源伯根公司AMERISOURCE BERGEN CORP   95.34  0.94  1.00   94.70   \n",
       "3    00:00   ABT        美國雅培公司ABBOTT LABORATORIES   94.92  2.82  3.06   92.90   \n",
       "4    00:00  ADBE         阿德寶軟體公司ADOBE SYSTEMS INC  386.60  6.77  1.78  382.62   \n",
       "..     ...   ...                              ...     ...   ...   ...     ...   \n",
       "407  00:00  XRAY     登士派國際公司DENTSPLY INTERNAT INC   46.52 -0.47 -1.00   46.61   \n",
       "408  00:00   XRX                     全錄XEROX CORP   15.88 -0.93 -5.53   16.61   \n",
       "409  06:34  YHOO                     雅虎YAHOO! INC  123.47  0.00  0.00  123.47   \n",
       "410  00:00   YUM            百勝餐飲集團YUM! BRANDS INC   89.73 -1.12 -1.23   90.28   \n",
       "411  00:00  ZION              Zion銀行ZIONS BANCORP   32.90 -1.12 -3.29   33.21   \n",
       "\n",
       "         最高      最低       成交量  \n",
       "0     88.49   86.46   2394576  \n",
       "1    321.15  316.47  38393832  \n",
       "2     95.60   93.61   1582133  \n",
       "3     95.59   90.75  10141091  \n",
       "4    389.05  377.07   5937467  \n",
       "..      ...     ...       ...  \n",
       "407   46.87   45.81   2465212  \n",
       "408   16.70   15.82  20755308  \n",
       "409  123.47  123.47         0  \n",
       "410   90.92   88.51  14610238  \n",
       "411   33.90   32.87   4209423  \n",
       "\n",
       "[412 rows x 10 columns]"
      ]
     },
     "execution_count": 9,
     "metadata": {},
     "output_type": "execute_result"
    }
   ],
   "source": [
    "df_sp500[0]"
   ]
  },
  {
   "cell_type": "markdown",
   "metadata": {},
   "source": [
    "## 成分股"
   ]
  },
  {
   "cell_type": "code",
   "execution_count": 12,
   "metadata": {},
   "outputs": [],
   "source": [
    "sp500_url = \"https://www.slickcharts.com/sp500\"\n",
    "res = requests.get(sp500_url)\n",
    "soup = BeautifulSoup(res.text, \"html.parser\")"
   ]
  },
  {
   "cell_type": "markdown",
   "metadata": {},
   "source": [
    "body > div.container-fluid.mt-4.maxWidth > div:nth-child(2) > div.col-lg-7 > div > div > table"
   ]
  },
  {
   "cell_type": "code",
   "execution_count": 13,
   "metadata": {},
   "outputs": [],
   "source": [
    "table = soup.find(\"table\")"
   ]
  },
  {
   "cell_type": "code",
   "execution_count": 14,
   "metadata": {},
   "outputs": [],
   "source": [
    "df_sp500 = pd.read_html(str(table))"
   ]
  },
  {
   "cell_type": "code",
   "execution_count": 15,
   "metadata": {},
   "outputs": [],
   "source": [
    "df_sp500 = df_sp500[0]"
   ]
  },
  {
   "cell_type": "code",
   "execution_count": 16,
   "metadata": {},
   "outputs": [
    {
     "data": {
      "text/plain": [
       "0       MSFT\n",
       "1       AAPL\n",
       "2       AMZN\n",
       "3         FB\n",
       "4      GOOGL\n",
       "       ...  \n",
       "500      JWN\n",
       "501      UAA\n",
       "502       UA\n",
       "503      NWS\n",
       "504     COTY\n",
       "Name: Symbol, Length: 505, dtype: object"
      ]
     },
     "execution_count": 16,
     "metadata": {},
     "output_type": "execute_result"
    }
   ],
   "source": [
    "df_sp500[\"Symbol\"]"
   ]
  },
  {
   "cell_type": "code",
   "execution_count": 17,
   "metadata": {},
   "outputs": [],
   "source": [
    "sp500_symbol = df_sp500[\"Symbol\"]"
   ]
  },
  {
   "cell_type": "code",
   "execution_count": 18,
   "metadata": {},
   "outputs": [
    {
     "name": "stdout",
     "output_type": "stream",
     "text": [
      "MSFT AAPL AMZN FB GOOGL GOOG JNJ BRK.B V JPM PG UNH INTC MA HD VZ T PFE DIS NVDA BAC MRK CSCO XOM PEP ADBE KO NFLX CMCSA WMT PYPL CVX ABT CRM ABBV MCD BMY TMO COST AMGN MDT ACN LLY NEE NKE UNP ORCL PM AMT AVGO IBM TXN LIN C HON WFC DHR LMT RTX LOW GILD SBUX MMM QCOM CVS FIS CHTR BLK BA SPGI CI MDLZ ANTM INTU MO VRTX NOW BDX CCI UPS BKNG D PLD CAT ISRG AXP ZTS TJX CME GS SYK ADP DUK CL EQIX FISV AMD TGT SO GE REGN CB CSX ILMN BIIB ATVI MMC NOC HUM GPN APD ECL ICE BSX USB MS MU TFC PNC ITW AMAT SHW KMB DE NEM COP NSC DG AON EW BAX PGR ADSK LHX MCO EL AEP WM SCHW ADI ROP CNC LRCX DLR TMUS GIS DD EXC EMR SRE ROST EA ETN SBAC PSX GD EBAY XEL GM DXCM COF ALL BK WBA FDX ORLY KMI PSA EOG CTSH STZ HCA DOW SYY MET APH TROW WEC TRV INFO TEL KLAC VLO YUM VRSK MSCI AZO MNST AIG A AFL WLTW IQV ZBH IDXX ES SLB CMI SNPS CLX PEG KR PCAR CMG ALXN MCK ROK PRU MAR CDNS TWTR ED JCI PPG WMB ANSS MSI DLTR BLL FE FAST PAYX PH MPC F MCHP HLT STT RMD XLNX CERN AWK HPQ AVB VRSN ADM TT TDG FLT EQR PPL MKC CTAS AME WELL EIX DTE OTIS ETR CTVA HSY SWKS KEYS VFC MTD O FTNT SWK ARE KHC DHI APTV EFX TSN SPG FRC CPRT AMP MKTX FTV CHD AEE ALGN RSG INCY GLW BBY AJG LUV LH NTRS LEN AKAM TFX LYB CMS LVS CAG K ESS CTXS AMCR CARR CAH WY ODFL CDW DGX DFS COO PXD OKE MXIM WST KSU TTWO DAL CBRE KMX VMC MTB IFF FITB EVRG ABC DPZ HIG DOV PAYC TSCO HOLX ULTA ZBRA LDOS STE IP TIF BR VTR JKHY GWW NDAQ MAA HRL MAS FCX GRMN NUE EXPD DRE WAT WDC FMC BXP SJM EXR PEAK HES HPE MLM GPC XYL OXY ATO ANET BF.B SYF OMC KEY NLOK STX IEX LNT QRVO J CBOE VIAC VAR UDR NVR WAB CE SIVB RF CXO PKI CHRW EXPE IT CFG BKR HAL PFG XRAY URI ETFC JBHT FOXA NTAP IR ABMD CTL DRI AAP PKG HBAN HAS EMN AVY ALLE NRG CINF HSIC CNP NI MGM MYL RCL PHM RJF LW L HST PNW UHS LKQ FBHS WU AES FFIV WRB CPB RE HII ALB WYNN DISH JNPR COG LNC GL WHR PRGO REG WRK IRM SNA TAP TXT DVA FANG LYV IPG DISCK PNR BWA AOS CF CCL UAL AIZ RHI FLIR VNO ZION ROL FRT MHK AIV CMA IPGP BEN PWR PBCT NWL HWM NLSN SEE NOV KIM HFC MRO NBL FOX DVN NWSA APA AAL MOS ALK DXC LEG RL TPR HBI PVH LB SLG HOG NCLH DISCA FLS HRB UNM FTI KSS XRX IVZ GPS ADS JWN UAA UA NWS COTY "
     ]
    }
   ],
   "source": [
    "for symbol in sp500_symbol:\n",
    "    print(symbol, end = ' ')"
   ]
  },
  {
   "cell_type": "markdown",
   "metadata": {},
   "source": [
    "### S&P100"
   ]
  },
  {
   "cell_type": "code",
   "execution_count": 20,
   "metadata": {},
   "outputs": [
    {
     "data": {
      "text/plain": [
       "<Response [200]>"
      ]
     },
     "execution_count": 20,
     "metadata": {},
     "output_type": "execute_result"
    }
   ],
   "source": [
    "SP100_wiki_url = \"https://en.wikipedia.org/wiki/S%26P_100\"\n",
    "res = requests.get(SP100_wiki_url)\n",
    "res"
   ]
  },
  {
   "cell_type": "code",
   "execution_count": 23,
   "metadata": {},
   "outputs": [],
   "source": [
    "soup = BeautifulSoup(res.text, \"html.parser\")\n",
    "tables = soup.find_all(\"table\")"
   ]
  },
  {
   "cell_type": "code",
   "execution_count": 25,
   "metadata": {},
   "outputs": [],
   "source": [
    "tables = pd.read_html(str(tables))"
   ]
  },
  {
   "cell_type": "code",
   "execution_count": 26,
   "metadata": {},
   "outputs": [
    {
     "data": {
      "text/plain": [
       "list"
      ]
     },
     "execution_count": 26,
     "metadata": {},
     "output_type": "execute_result"
    }
   ],
   "source": [
    "type(tables)"
   ]
  },
  {
   "cell_type": "code",
   "execution_count": 29,
   "metadata": {},
   "outputs": [
    {
     "data": {
      "text/html": [
       "<div>\n",
       "<style scoped>\n",
       "    .dataframe tbody tr th:only-of-type {\n",
       "        vertical-align: middle;\n",
       "    }\n",
       "\n",
       "    .dataframe tbody tr th {\n",
       "        vertical-align: top;\n",
       "    }\n",
       "\n",
       "    .dataframe thead th {\n",
       "        text-align: right;\n",
       "    }\n",
       "</style>\n",
       "<table border=\"1\" class=\"dataframe\">\n",
       "  <thead>\n",
       "    <tr style=\"text-align: right;\">\n",
       "      <th></th>\n",
       "      <th>Symbol</th>\n",
       "      <th>Name</th>\n",
       "    </tr>\n",
       "  </thead>\n",
       "  <tbody>\n",
       "    <tr>\n",
       "      <th>0</th>\n",
       "      <td>AAPL</td>\n",
       "      <td>Apple Inc.</td>\n",
       "    </tr>\n",
       "    <tr>\n",
       "      <th>1</th>\n",
       "      <td>ABBV</td>\n",
       "      <td>AbbVie Inc.</td>\n",
       "    </tr>\n",
       "    <tr>\n",
       "      <th>2</th>\n",
       "      <td>ABT</td>\n",
       "      <td>Abbott Laboratories</td>\n",
       "    </tr>\n",
       "    <tr>\n",
       "      <th>3</th>\n",
       "      <td>ACN</td>\n",
       "      <td>Accenture</td>\n",
       "    </tr>\n",
       "    <tr>\n",
       "      <th>4</th>\n",
       "      <td>ADBE</td>\n",
       "      <td>Adobe Inc.</td>\n",
       "    </tr>\n",
       "    <tr>\n",
       "      <th>...</th>\n",
       "      <td>...</td>\n",
       "      <td>...</td>\n",
       "    </tr>\n",
       "    <tr>\n",
       "      <th>96</th>\n",
       "      <td>VZ</td>\n",
       "      <td>Verizon Communications</td>\n",
       "    </tr>\n",
       "    <tr>\n",
       "      <th>97</th>\n",
       "      <td>WBA</td>\n",
       "      <td>Walgreens Boots Alliance</td>\n",
       "    </tr>\n",
       "    <tr>\n",
       "      <th>98</th>\n",
       "      <td>WFC</td>\n",
       "      <td>Wells Fargo</td>\n",
       "    </tr>\n",
       "    <tr>\n",
       "      <th>99</th>\n",
       "      <td>WMT</td>\n",
       "      <td>Walmart</td>\n",
       "    </tr>\n",
       "    <tr>\n",
       "      <th>100</th>\n",
       "      <td>XOM</td>\n",
       "      <td>Exxon Mobil Corp.</td>\n",
       "    </tr>\n",
       "  </tbody>\n",
       "</table>\n",
       "<p>101 rows × 2 columns</p>\n",
       "</div>"
      ],
      "text/plain": [
       "    Symbol                      Name\n",
       "0     AAPL                Apple Inc.\n",
       "1     ABBV               AbbVie Inc.\n",
       "2      ABT       Abbott Laboratories\n",
       "3      ACN                 Accenture\n",
       "4     ADBE                Adobe Inc.\n",
       "..     ...                       ...\n",
       "96      VZ    Verizon Communications\n",
       "97     WBA  Walgreens Boots Alliance\n",
       "98     WFC               Wells Fargo\n",
       "99     WMT                   Walmart\n",
       "100    XOM         Exxon Mobil Corp.\n",
       "\n",
       "[101 rows x 2 columns]"
      ]
     },
     "execution_count": 29,
     "metadata": {},
     "output_type": "execute_result"
    }
   ],
   "source": [
    "tables[2]"
   ]
  },
  {
   "cell_type": "code",
   "execution_count": 30,
   "metadata": {},
   "outputs": [],
   "source": [
    "df_SP100 = tables[2]"
   ]
  },
  {
   "cell_type": "code",
   "execution_count": 48,
   "metadata": {},
   "outputs": [
    {
     "name": "stdout",
     "output_type": "stream",
     "text": [
      "AAPL','ABBV','ABT','ACN','ADBE','AIG','ALL','AMGN','AMT','AMZN','AXP','BA','BAC','BIIB','BK','BKNG','BLK','BMY','BRK.B','C','CAT','CHTR','CL','CMCSA','COF','COP','COST','CRM','CSCO','CVS','CVX','DD','DHR','DIS','DOW','DUK','EMR','EXC','F','FB','FDX','GD','GE','GILD','GM','GOOG','GOOGL','GS','HD','HON','IBM','INTC','JNJ','JPM','KHC','KMI','KO','LLY','LMT','LOW','MA','MCD','MDLZ','MDT','MET','MMM','MO','MRK','MS','MSFT','NEE','NFLX','NKE','NVDA','ORCL','OXY','PEP','PFE','PG','PM','PYPL','QCOM','RTX','SBUX','SLB','SO','SPG','T','TGT','TMO','TXN','UNH','UNP','UPS','USB','V','VZ','WBA','WFC','WMT','XOM\n"
     ]
    }
   ],
   "source": [
    "print(\"','\".join(df_SP100['Symbol']))"
   ]
  },
  {
   "cell_type": "code",
   "execution_count": 41,
   "metadata": {},
   "outputs": [
    {
     "name": "stdout",
     "output_type": "stream",
     "text": [
      "AAPL ABBV ABT ACN ADBE AIG ALL AMGN AMT AMZN AXP BA BAC BIIB BK BKNG BLK BMY BRK.B C CAT CHTR CL CMCSA COF COP COST CRM CSCO CVS CVX DD DHR DIS DOW DUK EMR EXC F FB FDX GD GE GILD GM GOOG GOOGL GS HD HON IBM INTC JNJ JPM KHC KMI KO LLY LMT LOW MA MCD MDLZ MDT MET MMM MO MRK MS MSFT NEE NFLX NKE NVDA ORCL OXY PEP PFE PG PM PYPL QCOM RTX SBUX SLB SO SPG T TGT TMO TXN UNH UNP UPS USB V VZ WBA WFC WMT XOM "
     ]
    }
   ],
   "source": [
    "for sym in df_SP100['Symbol']:\n",
    "    print(sym, end = ' ')"
   ]
  },
  {
   "cell_type": "markdown",
   "metadata": {},
   "source": [
    "### Inset Keywords"
   ]
  },
  {
   "cell_type": "code",
   "execution_count": 2,
   "metadata": {},
   "outputs": [],
   "source": [
    "keywords = [i for i in input().split()]"
   ]
  },
  {
   "cell_type": "code",
   "execution_count": 3,
   "metadata": {},
   "outputs": [],
   "source": [
    "keywords.sort()"
   ]
  },
  {
   "cell_type": "code",
   "execution_count": 4,
   "metadata": {},
   "outputs": [
    {
     "data": {
      "text/plain": [
       "'A AAL AAP AAPL ABBV ABC ABMD ABT ACN ADBE ADI ADM ADP ADS ADSK AEE AEP AES AFL AIG AIV AIZ AJG AKAM ALB ALGN ALK ALL ALLE ALXN AMAT AMCR AMD AME AMGN AMP AMT AMZN ANET ANSS ANTM AON AOS APA APD APH APTV ARE ATO ATVI AVB AVGO AVY AWK AXP AZO BA BAC BAX BBY BDX BEN BF.B BIIB BK BKNG BKR BLK BLL BMY BR BRK.B BSX BWA BXP C CAG CAH CARR CAT CB CBOE CBRE CCI CCL CDNS CDW CE CERN CF CFG CHD CHRW CHTR CI CINF CL CLX CMA CMCSA CME CMG CMI CMS CNC CNP COF COG COO COP COST COTY CPB CPRT CRM CSCO CSX CTAS CTL CTSH CTVA CTXS CVS CVX CXO D DAL DD DE DFS DG DGX DHI DHR DIS DISCA DISCK DISH DLR DLTR DOV DOW DPZ DRE DRI DTE DUK DVA DVN DXC DXCM EA EBAY ECL ED EFX EIX EL EMN EMR EOG EQIX EQR ES ESS ETFC ETN ETR EVRG EW EXC EXPD EXPE EXR F FANG FAST FB FBHS FCX FDX FE FFIV FIS FISV FITB FLIR FLS FLT FMC FOX FOXA FRC FRT FTI FTNT FTV GD GE GILD GIS GL GLW GM GOOG GOOGL GPC GPN GPS GRMN GS GWW HAL HAS HBAN HBI HCA HD HES HFC HIG HII HLT HOG HOLX HON HPE HPQ HRB HRL HSIC HST HSY HUM HWM IBM ICE IDXX IEX IFF ILMN INCY INFO INTC INTU IP IPG IPGP IQV IR IRM ISRG IT ITW IVZ J JBHT JCI JKHY JNJ JNPR JPM JWN K KEY KEYS KHC KIM KLAC KMB KMI KMX KO KR KSS KSU L LB LDOS LEG LEN LH LHX LIN LKQ LLY LMT LNC LNT LOW LRCX LUV LVS LW LYB LYV MA MAA MAR MAS MCD MCHP MCK MCO MDLZ MDT MET MGM MHK MKC MKTX MLM MMC MMM MNST MO MOS MPC MRK MRO MS MSCI MSFT MSI MTB MTD MU MXIM MYL NBL NCLH NDAQ NEE NEM NFLX NI NKE NLOK NLSN NOC NOV NOW NRG NSC NTAP NTRS NUE NVDA NVR NWL NWS NWSA O ODFL OKE OMC ORCL ORLY OTIS OXY PAYC PAYX PBCT PCAR PEAK PEG PEP PFE PFG PG PGR PH PHM PKG PKI PLD PM PNC PNR PNW PPG PPL PRGO PRU PSA PSX PVH PWR PXD PYPL QCOM QRVO RCL RE REG REGN RF RHI RJF RL RMD ROK ROL ROP ROST RSG RTX SBAC SBUX SCHW SEE SHW SIVB SJM SLB SLG SNA SNPS SO SPG SPGI SRE STE STT STX STZ SWK SWKS SYF SYK SYY T TAP TDG TEL TFC TFX TGT TIF TJX TMO TMUS TPR TROW TRV TSCO TSN TT TTWO TWTR TXN TXT UA UAA UAL UDR UHS ULTA UNH UNM UNP UPS URI USB V VAR VFC VIAC VLO VMC VNO VRSK VRSN VRTX VTR VZ WAB WAT WBA WDC WEC WELL WFC WHR WLTW WM WMB WMT WRB WRK WST WU WY WYNN XEL XLNX XOM XRAY XRX XYL YUM ZBH ZBRA ZION ZTS'"
      ]
     },
     "execution_count": 4,
     "metadata": {},
     "output_type": "execute_result"
    }
   ],
   "source": [
    "\" \".join(keywords)"
   ]
  },
  {
   "cell_type": "markdown",
   "metadata": {},
   "source": [
    "# ALL S&P500 STOCKS"
   ]
  },
  {
   "cell_type": "markdown",
   "metadata": {},
   "source": [
    "### Selenium"
   ]
  },
  {
   "cell_type": "code",
   "execution_count": 3,
   "metadata": {},
   "outputs": [],
   "source": [
    "import requests\n",
    "from bs4 import BeautifulSoup\n",
    "import sys\n",
    "import codecs\n",
    "from selenium import webdriver\n",
    "from selenium.webdriver.support.ui import WebDriverWait\n",
    "from selenium.webdriver.common.keys import Keys\n",
    "import requests\n",
    "import time\n",
    "from fake_useragent import UserAgent\n",
    "import csv\n",
    "import pandas as pd"
   ]
  },
  {
   "cell_type": "markdown",
   "metadata": {},
   "source": [
    "### Use try & except"
   ]
  },
  {
   "cell_type": "code",
   "execution_count": 6,
   "metadata": {},
   "outputs": [
    {
     "name": "stderr",
     "output_type": "stream",
     "text": [
      "/Applications/anaconda3/lib/python3.6/site-packages/ipykernel_launcher.py:23: DeprecationWarning: use options instead of chrome_options\n"
     ]
    }
   ],
   "source": [
    "#Use fake UserAgent\n",
    "def set_header_user_agent():\n",
    "    user_agent = UserAgent()\n",
    "    return user_agent.random\n",
    "\n",
    "#open browser #打開瀏覽器，但不要載入圖片\n",
    "options = webdriver.ChromeOptions()\n",
    "prefs = {\n",
    "    'profile.default_content_setting_values': {\n",
    "        'images': 2,\n",
    "        #'javascript': 2\n",
    "    }\n",
    "}\n",
    "options.add_experimental_option('prefs', prefs)\n",
    "\n",
    "#ua = \"Mozilla/5.0 (Windows NT 10.0; WOW64; rv:53.0) Gecko/20100101 Firefox/53.0\"\n",
    "#headers = {'User-Agent': 'User-Agent:Mozilla/5.0 (Macintosh; Intel Mac OS X 10_12_3) AppleWebKit/537.36 (KHTML, like Gecko) Chrome/56.0.2924.87 Safari/537.36'}\n",
    "#user_agent = set_header_user_agent()\n",
    "#headers={ 'user-agent': user_agent }\n",
    "#options.add_argument(\"user-agent={}\".format(user_agent)) # 使用偽造的 user-agent\n",
    "#options.add_argument(headers)\n",
    "\n",
    "driver = webdriver.Chrome('./chromedriver', chrome_options=options)\n",
    "\n",
    "\n",
    "#define urls\n",
    "url = 'https://finance.yahoo.com/quote/'\n",
    "\n",
    "#for loop\n",
    "i = 1\n",
    "for keyword in keywords:\n",
    "    \n",
    "    try:\n",
    "\n",
    "        #hist url\n",
    "        hist_url = url+keyword+\"/history?p=\"+keyword\n",
    "\n",
    "        #開啟網頁\n",
    "        driver.get(hist_url)\n",
    "        driver.implicitly_wait(5)\n",
    "\n",
    "        #點日期\n",
    "        driver.find_element_by_xpath(\"\"\"//*[@id=\"Col1-1-HistoricalDataTable-Proxy\"]/section/div[1]/div[1]/div[1]/div/div/div/span\"\"\").click()\n",
    "        driver.implicitly_wait(5)\n",
    "        #time.sleep(0.5)\n",
    "        #點max\n",
    "        driver.find_element_by_xpath(\"\"\"//*[@id=\"dropdown-menu\"]/div/ul[2]/li[4]/button/span\"\"\").click()\n",
    "        driver.implicitly_wait(5)\n",
    "        #time.sleep(0.5)\n",
    "\n",
    "        #點frequency\n",
    "        #driver.find_element_by_xpath(\"\"\"//*[@id=\"Col1-1-HistoricalDataTable-Proxy\"]/section/div[1]/div[1]/div[3]/span/div/svg\"\"\").click()\n",
    "        #driver.find_element_by_xpath(\"\"\"//*[@id=\"Col1-1-HistoricalDataTable-Proxy\"]/section/div[1]/div[1]/div[3]/span/div/span/span\"\"\").click()\n",
    "        #點apply\n",
    "        driver.find_element_by_xpath(\"\"\"//*[@id=\"Col1-1-HistoricalDataTable-Proxy\"]/section/div[1]/div[1]/button/span\"\"\").click()\n",
    "        driver.implicitly_wait(20)\n",
    "        #time.sleep(0.5)\n",
    "\n",
    "        #html parse 抓下載檔案的網址\n",
    "        hist_soup = BeautifulSoup(driver.page_source, 'html.parser')\n",
    "        links = hist_soup.select(\".Fl(end).Mt(3px).Cur(p)\") #帶有空格的class需要用.來取\n",
    "\n",
    "        #CSV file link\n",
    "        csv_url = links[0]['href']\n",
    "        df = pd.read_csv(csv_url)\n",
    "        df = df[['Date','Close']]\n",
    "        df.rename(columns={'Close':keyword}, inplace=True) #rename the column after the specific stock\n",
    "\n",
    "        #把某支股票的歷史價格存成csv檔\n",
    "        file_path = \"prices/\" + keyword+\".csv\"\n",
    "        df.to_csv(file_path, index=False)\n",
    "        \n",
    "        #assign不同的股票到不同的dataframe, 迴圈跑完要merge在一起\n",
    "        names = locals()\n",
    "        names['df%s' % i] = df\n",
    "        i+=1\n",
    "    \n",
    "    except:\n",
    "        i+=1\n",
    "    #time.sleep(1)\n",
    "\n",
    "#df = df1 #df是最後要的pooled的dataFrame，先assign成df1，再逐個跟其後的合併\n",
    "#for j in range(2, i):\n",
    "#    df = pd.merge(df, names['df%s' % j], how = 'left', on = [\"Date\"])\n",
    "    #check how to use pd.merge() in the ref: \n",
    "    #https://pandas-docs.github.io/pandas-docs-travis/user_guide/merging.html\n",
    "\n",
    "#df = df1\n",
    "#for j in range(2, len(keywords)+1):\n",
    "#    try:\n",
    "#        df = pd.merge(df, names['df%s' % j], how = 'left', on = [\"Date\"])\n",
    "#    except:\n",
    "#        print(\"missing df\"+j)\n"
   ]
  },
  {
   "cell_type": "code",
   "execution_count": 7,
   "metadata": {},
   "outputs": [
    {
     "data": {
      "text/plain": [
       "173"
      ]
     },
     "execution_count": 7,
     "metadata": {},
     "output_type": "execute_result"
    }
   ],
   "source": [
    "keywords.index(\"EXR\")"
   ]
  },
  {
   "cell_type": "code",
   "execution_count": 8,
   "metadata": {},
   "outputs": [
    {
     "data": {
      "text/html": [
       "<div>\n",
       "<style scoped>\n",
       "    .dataframe tbody tr th:only-of-type {\n",
       "        vertical-align: middle;\n",
       "    }\n",
       "\n",
       "    .dataframe tbody tr th {\n",
       "        vertical-align: top;\n",
       "    }\n",
       "\n",
       "    .dataframe thead th {\n",
       "        text-align: right;\n",
       "    }\n",
       "</style>\n",
       "<table border=\"1\" class=\"dataframe\">\n",
       "  <thead>\n",
       "    <tr style=\"text-align: right;\">\n",
       "      <th></th>\n",
       "      <th>Date</th>\n",
       "      <th>O</th>\n",
       "    </tr>\n",
       "  </thead>\n",
       "  <tbody>\n",
       "    <tr>\n",
       "      <th>0</th>\n",
       "      <td>1994-10-18</td>\n",
       "      <td>8.0000</td>\n",
       "    </tr>\n",
       "    <tr>\n",
       "      <th>1</th>\n",
       "      <td>1994-10-19</td>\n",
       "      <td>8.6875</td>\n",
       "    </tr>\n",
       "    <tr>\n",
       "      <th>2</th>\n",
       "      <td>1994-10-20</td>\n",
       "      <td>8.7500</td>\n",
       "    </tr>\n",
       "    <tr>\n",
       "      <th>3</th>\n",
       "      <td>1994-10-21</td>\n",
       "      <td>8.6250</td>\n",
       "    </tr>\n",
       "    <tr>\n",
       "      <th>4</th>\n",
       "      <td>1994-10-24</td>\n",
       "      <td>8.4375</td>\n",
       "    </tr>\n",
       "  </tbody>\n",
       "</table>\n",
       "</div>"
      ],
      "text/plain": [
       "         Date       O\n",
       "0  1994-10-18  8.0000\n",
       "1  1994-10-19  8.6875\n",
       "2  1994-10-20  8.7500\n",
       "3  1994-10-21  8.6250\n",
       "4  1994-10-24  8.4375"
      ]
     },
     "execution_count": 8,
     "metadata": {},
     "output_type": "execute_result"
    }
   ],
   "source": [
    "df353.head()"
   ]
  },
  {
   "cell_type": "code",
   "execution_count": 9,
   "metadata": {},
   "outputs": [
    {
     "data": {
      "text/html": [
       "<div>\n",
       "<style scoped>\n",
       "    .dataframe tbody tr th:only-of-type {\n",
       "        vertical-align: middle;\n",
       "    }\n",
       "\n",
       "    .dataframe tbody tr th {\n",
       "        vertical-align: top;\n",
       "    }\n",
       "\n",
       "    .dataframe thead th {\n",
       "        text-align: right;\n",
       "    }\n",
       "</style>\n",
       "<table border=\"1\" class=\"dataframe\">\n",
       "  <thead>\n",
       "    <tr style=\"text-align: right;\">\n",
       "      <th></th>\n",
       "      <th>Date</th>\n",
       "      <th>ZTS</th>\n",
       "    </tr>\n",
       "  </thead>\n",
       "  <tbody>\n",
       "    <tr>\n",
       "      <th>0</th>\n",
       "      <td>2013-02-01</td>\n",
       "      <td>31.010000</td>\n",
       "    </tr>\n",
       "    <tr>\n",
       "      <th>1</th>\n",
       "      <td>2013-02-04</td>\n",
       "      <td>31.020000</td>\n",
       "    </tr>\n",
       "    <tr>\n",
       "      <th>2</th>\n",
       "      <td>2013-02-05</td>\n",
       "      <td>31.040001</td>\n",
       "    </tr>\n",
       "    <tr>\n",
       "      <th>3</th>\n",
       "      <td>2013-02-06</td>\n",
       "      <td>31.030001</td>\n",
       "    </tr>\n",
       "    <tr>\n",
       "      <th>4</th>\n",
       "      <td>2013-02-07</td>\n",
       "      <td>32.000000</td>\n",
       "    </tr>\n",
       "  </tbody>\n",
       "</table>\n",
       "</div>"
      ],
      "text/plain": [
       "         Date        ZTS\n",
       "0  2013-02-01  31.010000\n",
       "1  2013-02-04  31.020000\n",
       "2  2013-02-05  31.040001\n",
       "3  2013-02-06  31.030001\n",
       "4  2013-02-07  32.000000"
      ]
     },
     "execution_count": 9,
     "metadata": {},
     "output_type": "execute_result"
    }
   ],
   "source": [
    "df.head()"
   ]
  },
  {
   "cell_type": "code",
   "execution_count": null,
   "metadata": {},
   "outputs": [],
   "source": []
  },
  {
   "cell_type": "code",
   "execution_count": 11,
   "metadata": {},
   "outputs": [
    {
     "name": "stdout",
     "output_type": "stream",
     "text": [
      "missing df63\n",
      "missing df72\n",
      "total missing:  2\n"
     ]
    }
   ],
   "source": [
    "df = df1\n",
    "count = 0\n",
    "for j in range(2, len(keywords)+1):\n",
    "    try:\n",
    "        df = pd.merge(df, names['df%s' % j], how = 'left', on = [\"Date\"])\n",
    "    except:\n",
    "        count+=1\n",
    "        print(\"missing df\"+str(j))\n",
    "print(\"total missing: \", str(count))"
   ]
  },
  {
   "cell_type": "code",
   "execution_count": 21,
   "metadata": {},
   "outputs": [
    {
     "name": "stdout",
     "output_type": "stream",
     "text": [
      "BF.B BRK.B\n"
     ]
    }
   ],
   "source": [
    "print(keywords[62], keywords[71]) #找出缺少的"
   ]
  },
  {
   "cell_type": "code",
   "execution_count": 27,
   "metadata": {},
   "outputs": [],
   "source": [
    "#找到股價\n",
    "BF_B_url = \"https://query1.finance.yahoo.com/v7/finance/download/BF-B?period1=322099200&period2=1590624000&interval=1d&events=history\"\n",
    "BRK_B_url = \"https://query1.finance.yahoo.com/v7/finance/download/BRK-B?period1=831600000&period2=1590624000&interval=1d&events=history\"\n",
    "\n",
    "#下載下來\n",
    "df_BF_B = pd.read_csv(BF_B_url)\n",
    "df_BF_B = df_BF_B[['Date','Close']]\n",
    "df_BF_B.rename(columns={'Close':\"BF-B\"}, inplace=True) #rename the column after the specific stock\n",
    "#把某支股票的歷史價格存成csv檔\n",
    "file_path = \"prices/BF-B.csv\"\n",
    "df_BF_B.to_csv(file_path, index=False)\n",
    "\n",
    "df_BRK_B = pd.read_csv(BRK_B_url)\n",
    "df_BRK_B = df_BRK_B[['Date','Close']]\n",
    "df_BRK_B.rename(columns={'Close':\"BRK-B\"}, inplace=True) #rename the column after the specific stock\n",
    "#把某支股票的歷史價格存成csv檔\n",
    "file_path = \"prices/BRK-B.csv\"\n",
    "df_BRK_B.to_csv(file_path, index=False)"
   ]
  },
  {
   "cell_type": "code",
   "execution_count": 12,
   "metadata": {},
   "outputs": [
    {
     "data": {
      "text/html": [
       "<div>\n",
       "<style scoped>\n",
       "    .dataframe tbody tr th:only-of-type {\n",
       "        vertical-align: middle;\n",
       "    }\n",
       "\n",
       "    .dataframe tbody tr th {\n",
       "        vertical-align: top;\n",
       "    }\n",
       "\n",
       "    .dataframe thead th {\n",
       "        text-align: right;\n",
       "    }\n",
       "</style>\n",
       "<table border=\"1\" class=\"dataframe\">\n",
       "  <thead>\n",
       "    <tr style=\"text-align: right;\">\n",
       "      <th></th>\n",
       "      <th>Date</th>\n",
       "      <th>A</th>\n",
       "      <th>AAL</th>\n",
       "      <th>AAP</th>\n",
       "      <th>AAPL</th>\n",
       "      <th>ABBV</th>\n",
       "      <th>ABC</th>\n",
       "      <th>ABMD</th>\n",
       "      <th>ABT</th>\n",
       "      <th>ACN</th>\n",
       "      <th>...</th>\n",
       "      <th>XLNX</th>\n",
       "      <th>XOM</th>\n",
       "      <th>XRAY</th>\n",
       "      <th>XRX</th>\n",
       "      <th>XYL</th>\n",
       "      <th>YUM</th>\n",
       "      <th>ZBH</th>\n",
       "      <th>ZBRA</th>\n",
       "      <th>ZION</th>\n",
       "      <th>ZTS</th>\n",
       "    </tr>\n",
       "  </thead>\n",
       "  <tbody>\n",
       "    <tr>\n",
       "      <th>0</th>\n",
       "      <td>1999-11-18</td>\n",
       "      <td>31.473534</td>\n",
       "      <td>NaN</td>\n",
       "      <td>NaN</td>\n",
       "      <td>3.200893</td>\n",
       "      <td>NaN</td>\n",
       "      <td>3.453125</td>\n",
       "      <td>14.0000</td>\n",
       "      <td>17.058233</td>\n",
       "      <td>NaN</td>\n",
       "      <td>...</td>\n",
       "      <td>46.25000</td>\n",
       "      <td>40.531250</td>\n",
       "      <td>8.031250</td>\n",
       "      <td>73.122528</td>\n",
       "      <td>NaN</td>\n",
       "      <td>7.750719</td>\n",
       "      <td>NaN</td>\n",
       "      <td>27.611111</td>\n",
       "      <td>64.5000</td>\n",
       "      <td>NaN</td>\n",
       "    </tr>\n",
       "    <tr>\n",
       "      <th>1</th>\n",
       "      <td>1999-11-19</td>\n",
       "      <td>28.880543</td>\n",
       "      <td>NaN</td>\n",
       "      <td>NaN</td>\n",
       "      <td>3.301339</td>\n",
       "      <td>NaN</td>\n",
       "      <td>3.421875</td>\n",
       "      <td>14.5000</td>\n",
       "      <td>16.833782</td>\n",
       "      <td>NaN</td>\n",
       "      <td>...</td>\n",
       "      <td>46.37500</td>\n",
       "      <td>39.843750</td>\n",
       "      <td>8.062500</td>\n",
       "      <td>75.592888</td>\n",
       "      <td>NaN</td>\n",
       "      <td>7.638390</td>\n",
       "      <td>NaN</td>\n",
       "      <td>27.833334</td>\n",
       "      <td>64.6250</td>\n",
       "      <td>NaN</td>\n",
       "    </tr>\n",
       "    <tr>\n",
       "      <th>2</th>\n",
       "      <td>1999-11-22</td>\n",
       "      <td>31.473534</td>\n",
       "      <td>NaN</td>\n",
       "      <td>NaN</td>\n",
       "      <td>3.236607</td>\n",
       "      <td>NaN</td>\n",
       "      <td>3.312500</td>\n",
       "      <td>14.1250</td>\n",
       "      <td>17.451021</td>\n",
       "      <td>NaN</td>\n",
       "      <td>...</td>\n",
       "      <td>45.56250</td>\n",
       "      <td>39.773438</td>\n",
       "      <td>7.958333</td>\n",
       "      <td>76.581024</td>\n",
       "      <td>NaN</td>\n",
       "      <td>7.514827</td>\n",
       "      <td>NaN</td>\n",
       "      <td>27.416666</td>\n",
       "      <td>63.8125</td>\n",
       "      <td>NaN</td>\n",
       "    </tr>\n",
       "    <tr>\n",
       "      <th>3</th>\n",
       "      <td>1999-11-23</td>\n",
       "      <td>28.612303</td>\n",
       "      <td>NaN</td>\n",
       "      <td>NaN</td>\n",
       "      <td>3.314732</td>\n",
       "      <td>NaN</td>\n",
       "      <td>3.078125</td>\n",
       "      <td>14.6875</td>\n",
       "      <td>17.030178</td>\n",
       "      <td>NaN</td>\n",
       "      <td>...</td>\n",
       "      <td>43.65625</td>\n",
       "      <td>39.000000</td>\n",
       "      <td>7.895833</td>\n",
       "      <td>74.110672</td>\n",
       "      <td>NaN</td>\n",
       "      <td>7.391265</td>\n",
       "      <td>NaN</td>\n",
       "      <td>26.458334</td>\n",
       "      <td>62.5000</td>\n",
       "      <td>NaN</td>\n",
       "    </tr>\n",
       "    <tr>\n",
       "      <th>4</th>\n",
       "      <td>1999-11-24</td>\n",
       "      <td>29.372318</td>\n",
       "      <td>NaN</td>\n",
       "      <td>NaN</td>\n",
       "      <td>3.381696</td>\n",
       "      <td>NaN</td>\n",
       "      <td>3.078125</td>\n",
       "      <td>14.3125</td>\n",
       "      <td>17.282684</td>\n",
       "      <td>NaN</td>\n",
       "      <td>...</td>\n",
       "      <td>44.75000</td>\n",
       "      <td>39.562500</td>\n",
       "      <td>7.833333</td>\n",
       "      <td>74.275360</td>\n",
       "      <td>NaN</td>\n",
       "      <td>7.211538</td>\n",
       "      <td>NaN</td>\n",
       "      <td>27.027779</td>\n",
       "      <td>62.8750</td>\n",
       "      <td>NaN</td>\n",
       "    </tr>\n",
       "  </tbody>\n",
       "</table>\n",
       "<p>5 rows × 504 columns</p>\n",
       "</div>"
      ],
      "text/plain": [
       "         Date          A  AAL  AAP      AAPL  ABBV       ABC     ABMD  \\\n",
       "0  1999-11-18  31.473534  NaN  NaN  3.200893   NaN  3.453125  14.0000   \n",
       "1  1999-11-19  28.880543  NaN  NaN  3.301339   NaN  3.421875  14.5000   \n",
       "2  1999-11-22  31.473534  NaN  NaN  3.236607   NaN  3.312500  14.1250   \n",
       "3  1999-11-23  28.612303  NaN  NaN  3.314732   NaN  3.078125  14.6875   \n",
       "4  1999-11-24  29.372318  NaN  NaN  3.381696   NaN  3.078125  14.3125   \n",
       "\n",
       "         ABT  ACN ...       XLNX        XOM      XRAY        XRX  XYL  \\\n",
       "0  17.058233  NaN ...   46.25000  40.531250  8.031250  73.122528  NaN   \n",
       "1  16.833782  NaN ...   46.37500  39.843750  8.062500  75.592888  NaN   \n",
       "2  17.451021  NaN ...   45.56250  39.773438  7.958333  76.581024  NaN   \n",
       "3  17.030178  NaN ...   43.65625  39.000000  7.895833  74.110672  NaN   \n",
       "4  17.282684  NaN ...   44.75000  39.562500  7.833333  74.275360  NaN   \n",
       "\n",
       "        YUM  ZBH       ZBRA     ZION  ZTS  \n",
       "0  7.750719  NaN  27.611111  64.5000  NaN  \n",
       "1  7.638390  NaN  27.833334  64.6250  NaN  \n",
       "2  7.514827  NaN  27.416666  63.8125  NaN  \n",
       "3  7.391265  NaN  26.458334  62.5000  NaN  \n",
       "4  7.211538  NaN  27.027779  62.8750  NaN  \n",
       "\n",
       "[5 rows x 504 columns]"
      ]
     },
     "execution_count": 12,
     "metadata": {},
     "output_type": "execute_result"
    }
   ],
   "source": [
    "df.head()"
   ]
  },
  {
   "cell_type": "code",
   "execution_count": 28,
   "metadata": {},
   "outputs": [],
   "source": [
    "df = pd.merge(df, df_BF_B, how = 'left', on = [\"Date\"])\n",
    "df = pd.merge(df, df_BRK_B, how = 'left', on = [\"Date\"])"
   ]
  },
  {
   "cell_type": "code",
   "execution_count": 29,
   "metadata": {},
   "outputs": [
    {
     "data": {
      "text/html": [
       "<div>\n",
       "<style scoped>\n",
       "    .dataframe tbody tr th:only-of-type {\n",
       "        vertical-align: middle;\n",
       "    }\n",
       "\n",
       "    .dataframe tbody tr th {\n",
       "        vertical-align: top;\n",
       "    }\n",
       "\n",
       "    .dataframe thead th {\n",
       "        text-align: right;\n",
       "    }\n",
       "</style>\n",
       "<table border=\"1\" class=\"dataframe\">\n",
       "  <thead>\n",
       "    <tr style=\"text-align: right;\">\n",
       "      <th></th>\n",
       "      <th>Date</th>\n",
       "      <th>A</th>\n",
       "      <th>AAL</th>\n",
       "      <th>AAP</th>\n",
       "      <th>AAPL</th>\n",
       "      <th>ABBV</th>\n",
       "      <th>ABC</th>\n",
       "      <th>ABMD</th>\n",
       "      <th>ABT</th>\n",
       "      <th>ACN</th>\n",
       "      <th>...</th>\n",
       "      <th>XRAY</th>\n",
       "      <th>XRX</th>\n",
       "      <th>XYL</th>\n",
       "      <th>YUM</th>\n",
       "      <th>ZBH</th>\n",
       "      <th>ZBRA</th>\n",
       "      <th>ZION</th>\n",
       "      <th>ZTS</th>\n",
       "      <th>BF-B</th>\n",
       "      <th>BRK-B</th>\n",
       "    </tr>\n",
       "  </thead>\n",
       "  <tbody>\n",
       "    <tr>\n",
       "      <th>0</th>\n",
       "      <td>1999-11-18</td>\n",
       "      <td>31.473534</td>\n",
       "      <td>NaN</td>\n",
       "      <td>NaN</td>\n",
       "      <td>3.200893</td>\n",
       "      <td>NaN</td>\n",
       "      <td>3.453125</td>\n",
       "      <td>14.0000</td>\n",
       "      <td>17.058233</td>\n",
       "      <td>NaN</td>\n",
       "      <td>...</td>\n",
       "      <td>8.031250</td>\n",
       "      <td>73.122528</td>\n",
       "      <td>NaN</td>\n",
       "      <td>7.750719</td>\n",
       "      <td>NaN</td>\n",
       "      <td>27.611111</td>\n",
       "      <td>64.5000</td>\n",
       "      <td>NaN</td>\n",
       "      <td>7.026667</td>\n",
       "      <td>38.340000</td>\n",
       "    </tr>\n",
       "    <tr>\n",
       "      <th>1</th>\n",
       "      <td>1999-11-19</td>\n",
       "      <td>28.880543</td>\n",
       "      <td>NaN</td>\n",
       "      <td>NaN</td>\n",
       "      <td>3.301339</td>\n",
       "      <td>NaN</td>\n",
       "      <td>3.421875</td>\n",
       "      <td>14.5000</td>\n",
       "      <td>16.833782</td>\n",
       "      <td>NaN</td>\n",
       "      <td>...</td>\n",
       "      <td>8.062500</td>\n",
       "      <td>75.592888</td>\n",
       "      <td>NaN</td>\n",
       "      <td>7.638390</td>\n",
       "      <td>NaN</td>\n",
       "      <td>27.833334</td>\n",
       "      <td>64.6250</td>\n",
       "      <td>NaN</td>\n",
       "      <td>6.880000</td>\n",
       "      <td>37.099998</td>\n",
       "    </tr>\n",
       "    <tr>\n",
       "      <th>2</th>\n",
       "      <td>1999-11-22</td>\n",
       "      <td>31.473534</td>\n",
       "      <td>NaN</td>\n",
       "      <td>NaN</td>\n",
       "      <td>3.236607</td>\n",
       "      <td>NaN</td>\n",
       "      <td>3.312500</td>\n",
       "      <td>14.1250</td>\n",
       "      <td>17.451021</td>\n",
       "      <td>NaN</td>\n",
       "      <td>...</td>\n",
       "      <td>7.958333</td>\n",
       "      <td>76.581024</td>\n",
       "      <td>NaN</td>\n",
       "      <td>7.514827</td>\n",
       "      <td>NaN</td>\n",
       "      <td>27.416666</td>\n",
       "      <td>63.8125</td>\n",
       "      <td>NaN</td>\n",
       "      <td>6.866667</td>\n",
       "      <td>38.180000</td>\n",
       "    </tr>\n",
       "    <tr>\n",
       "      <th>3</th>\n",
       "      <td>1999-11-23</td>\n",
       "      <td>28.612303</td>\n",
       "      <td>NaN</td>\n",
       "      <td>NaN</td>\n",
       "      <td>3.314732</td>\n",
       "      <td>NaN</td>\n",
       "      <td>3.078125</td>\n",
       "      <td>14.6875</td>\n",
       "      <td>17.030178</td>\n",
       "      <td>NaN</td>\n",
       "      <td>...</td>\n",
       "      <td>7.895833</td>\n",
       "      <td>74.110672</td>\n",
       "      <td>NaN</td>\n",
       "      <td>7.391265</td>\n",
       "      <td>NaN</td>\n",
       "      <td>26.458334</td>\n",
       "      <td>62.5000</td>\n",
       "      <td>NaN</td>\n",
       "      <td>6.546667</td>\n",
       "      <td>37.779999</td>\n",
       "    </tr>\n",
       "    <tr>\n",
       "      <th>4</th>\n",
       "      <td>1999-11-24</td>\n",
       "      <td>29.372318</td>\n",
       "      <td>NaN</td>\n",
       "      <td>NaN</td>\n",
       "      <td>3.381696</td>\n",
       "      <td>NaN</td>\n",
       "      <td>3.078125</td>\n",
       "      <td>14.3125</td>\n",
       "      <td>17.282684</td>\n",
       "      <td>NaN</td>\n",
       "      <td>...</td>\n",
       "      <td>7.833333</td>\n",
       "      <td>74.275360</td>\n",
       "      <td>NaN</td>\n",
       "      <td>7.211538</td>\n",
       "      <td>NaN</td>\n",
       "      <td>27.027779</td>\n",
       "      <td>62.8750</td>\n",
       "      <td>NaN</td>\n",
       "      <td>6.773334</td>\n",
       "      <td>37.900002</td>\n",
       "    </tr>\n",
       "  </tbody>\n",
       "</table>\n",
       "<p>5 rows × 506 columns</p>\n",
       "</div>"
      ],
      "text/plain": [
       "         Date          A  AAL  AAP      AAPL  ABBV       ABC     ABMD  \\\n",
       "0  1999-11-18  31.473534  NaN  NaN  3.200893   NaN  3.453125  14.0000   \n",
       "1  1999-11-19  28.880543  NaN  NaN  3.301339   NaN  3.421875  14.5000   \n",
       "2  1999-11-22  31.473534  NaN  NaN  3.236607   NaN  3.312500  14.1250   \n",
       "3  1999-11-23  28.612303  NaN  NaN  3.314732   NaN  3.078125  14.6875   \n",
       "4  1999-11-24  29.372318  NaN  NaN  3.381696   NaN  3.078125  14.3125   \n",
       "\n",
       "         ABT  ACN    ...          XRAY        XRX  XYL       YUM  ZBH  \\\n",
       "0  17.058233  NaN    ...      8.031250  73.122528  NaN  7.750719  NaN   \n",
       "1  16.833782  NaN    ...      8.062500  75.592888  NaN  7.638390  NaN   \n",
       "2  17.451021  NaN    ...      7.958333  76.581024  NaN  7.514827  NaN   \n",
       "3  17.030178  NaN    ...      7.895833  74.110672  NaN  7.391265  NaN   \n",
       "4  17.282684  NaN    ...      7.833333  74.275360  NaN  7.211538  NaN   \n",
       "\n",
       "        ZBRA     ZION  ZTS      BF-B      BRK-B  \n",
       "0  27.611111  64.5000  NaN  7.026667  38.340000  \n",
       "1  27.833334  64.6250  NaN  6.880000  37.099998  \n",
       "2  27.416666  63.8125  NaN  6.866667  38.180000  \n",
       "3  26.458334  62.5000  NaN  6.546667  37.779999  \n",
       "4  27.027779  62.8750  NaN  6.773334  37.900002  \n",
       "\n",
       "[5 rows x 506 columns]"
      ]
     },
     "execution_count": 29,
     "metadata": {},
     "output_type": "execute_result"
    }
   ],
   "source": [
    "df.head()"
   ]
  },
  {
   "cell_type": "code",
   "execution_count": 30,
   "metadata": {},
   "outputs": [
    {
     "data": {
      "text/html": [
       "<div>\n",
       "<style scoped>\n",
       "    .dataframe tbody tr th:only-of-type {\n",
       "        vertical-align: middle;\n",
       "    }\n",
       "\n",
       "    .dataframe tbody tr th {\n",
       "        vertical-align: top;\n",
       "    }\n",
       "\n",
       "    .dataframe thead th {\n",
       "        text-align: right;\n",
       "    }\n",
       "</style>\n",
       "<table border=\"1\" class=\"dataframe\">\n",
       "  <thead>\n",
       "    <tr style=\"text-align: right;\">\n",
       "      <th></th>\n",
       "      <th>Date</th>\n",
       "      <th>A</th>\n",
       "      <th>AAL</th>\n",
       "      <th>AAP</th>\n",
       "      <th>AAPL</th>\n",
       "      <th>ABBV</th>\n",
       "      <th>ABC</th>\n",
       "      <th>ABMD</th>\n",
       "      <th>ABT</th>\n",
       "      <th>ACN</th>\n",
       "      <th>...</th>\n",
       "      <th>XRAY</th>\n",
       "      <th>XRX</th>\n",
       "      <th>XYL</th>\n",
       "      <th>YUM</th>\n",
       "      <th>ZBH</th>\n",
       "      <th>ZBRA</th>\n",
       "      <th>ZION</th>\n",
       "      <th>ZTS</th>\n",
       "      <th>BF-B</th>\n",
       "      <th>BRK-B</th>\n",
       "    </tr>\n",
       "  </thead>\n",
       "  <tbody>\n",
       "    <tr>\n",
       "      <th>5157</th>\n",
       "      <td>2020-05-20</td>\n",
       "      <td>81.709999</td>\n",
       "      <td>9.87</td>\n",
       "      <td>135.720001</td>\n",
       "      <td>319.230011</td>\n",
       "      <td>91.190002</td>\n",
       "      <td>92.730003</td>\n",
       "      <td>196.360001</td>\n",
       "      <td>90.089996</td>\n",
       "      <td>195.179993</td>\n",
       "      <td>...</td>\n",
       "      <td>41.700001</td>\n",
       "      <td>17.24</td>\n",
       "      <td>62.080002</td>\n",
       "      <td>88.089996</td>\n",
       "      <td>126.599998</td>\n",
       "      <td>241.490005</td>\n",
       "      <td>31.120001</td>\n",
       "      <td>133.339996</td>\n",
       "      <td>68.690002</td>\n",
       "      <td>176.020004</td>\n",
       "    </tr>\n",
       "    <tr>\n",
       "      <th>5158</th>\n",
       "      <td>2020-05-21</td>\n",
       "      <td>80.750000</td>\n",
       "      <td>9.89</td>\n",
       "      <td>134.789993</td>\n",
       "      <td>316.850006</td>\n",
       "      <td>93.019997</td>\n",
       "      <td>92.250000</td>\n",
       "      <td>196.320007</td>\n",
       "      <td>90.389999</td>\n",
       "      <td>193.500000</td>\n",
       "      <td>...</td>\n",
       "      <td>41.959999</td>\n",
       "      <td>17.24</td>\n",
       "      <td>61.970001</td>\n",
       "      <td>88.010002</td>\n",
       "      <td>122.000000</td>\n",
       "      <td>244.149994</td>\n",
       "      <td>30.730000</td>\n",
       "      <td>130.330002</td>\n",
       "      <td>65.650002</td>\n",
       "      <td>174.940002</td>\n",
       "    </tr>\n",
       "    <tr>\n",
       "      <th>5159</th>\n",
       "      <td>2020-05-22</td>\n",
       "      <td>84.980003</td>\n",
       "      <td>9.70</td>\n",
       "      <td>133.479996</td>\n",
       "      <td>318.890015</td>\n",
       "      <td>92.099998</td>\n",
       "      <td>93.139999</td>\n",
       "      <td>206.160004</td>\n",
       "      <td>91.470001</td>\n",
       "      <td>193.710007</td>\n",
       "      <td>...</td>\n",
       "      <td>42.240002</td>\n",
       "      <td>16.98</td>\n",
       "      <td>62.220001</td>\n",
       "      <td>87.250000</td>\n",
       "      <td>123.400002</td>\n",
       "      <td>243.539993</td>\n",
       "      <td>30.190001</td>\n",
       "      <td>130.110001</td>\n",
       "      <td>64.779999</td>\n",
       "      <td>174.929993</td>\n",
       "    </tr>\n",
       "    <tr>\n",
       "      <th>5160</th>\n",
       "      <td>2020-05-26</td>\n",
       "      <td>86.129997</td>\n",
       "      <td>11.14</td>\n",
       "      <td>135.580002</td>\n",
       "      <td>316.730011</td>\n",
       "      <td>90.709999</td>\n",
       "      <td>90.779999</td>\n",
       "      <td>209.080002</td>\n",
       "      <td>89.480003</td>\n",
       "      <td>196.399994</td>\n",
       "      <td>...</td>\n",
       "      <td>45.330002</td>\n",
       "      <td>17.43</td>\n",
       "      <td>65.250000</td>\n",
       "      <td>88.050003</td>\n",
       "      <td>126.739998</td>\n",
       "      <td>255.960007</td>\n",
       "      <td>32.930000</td>\n",
       "      <td>130.449997</td>\n",
       "      <td>63.540001</td>\n",
       "      <td>180.339996</td>\n",
       "    </tr>\n",
       "    <tr>\n",
       "      <th>5161</th>\n",
       "      <td>2020-05-27</td>\n",
       "      <td>86.180000</td>\n",
       "      <td>11.98</td>\n",
       "      <td>141.710007</td>\n",
       "      <td>318.109985</td>\n",
       "      <td>89.980003</td>\n",
       "      <td>93.330002</td>\n",
       "      <td>207.759995</td>\n",
       "      <td>90.760002</td>\n",
       "      <td>199.929993</td>\n",
       "      <td>...</td>\n",
       "      <td>47.790001</td>\n",
       "      <td>18.09</td>\n",
       "      <td>68.860001</td>\n",
       "      <td>90.239998</td>\n",
       "      <td>128.339996</td>\n",
       "      <td>258.670013</td>\n",
       "      <td>35.080002</td>\n",
       "      <td>135.639999</td>\n",
       "      <td>65.820000</td>\n",
       "      <td>185.770004</td>\n",
       "    </tr>\n",
       "  </tbody>\n",
       "</table>\n",
       "<p>5 rows × 506 columns</p>\n",
       "</div>"
      ],
      "text/plain": [
       "            Date          A    AAL         AAP        AAPL       ABBV  \\\n",
       "5157  2020-05-20  81.709999   9.87  135.720001  319.230011  91.190002   \n",
       "5158  2020-05-21  80.750000   9.89  134.789993  316.850006  93.019997   \n",
       "5159  2020-05-22  84.980003   9.70  133.479996  318.890015  92.099998   \n",
       "5160  2020-05-26  86.129997  11.14  135.580002  316.730011  90.709999   \n",
       "5161  2020-05-27  86.180000  11.98  141.710007  318.109985  89.980003   \n",
       "\n",
       "            ABC        ABMD        ABT         ACN     ...           XRAY  \\\n",
       "5157  92.730003  196.360001  90.089996  195.179993     ...      41.700001   \n",
       "5158  92.250000  196.320007  90.389999  193.500000     ...      41.959999   \n",
       "5159  93.139999  206.160004  91.470001  193.710007     ...      42.240002   \n",
       "5160  90.779999  209.080002  89.480003  196.399994     ...      45.330002   \n",
       "5161  93.330002  207.759995  90.760002  199.929993     ...      47.790001   \n",
       "\n",
       "        XRX        XYL        YUM         ZBH        ZBRA       ZION  \\\n",
       "5157  17.24  62.080002  88.089996  126.599998  241.490005  31.120001   \n",
       "5158  17.24  61.970001  88.010002  122.000000  244.149994  30.730000   \n",
       "5159  16.98  62.220001  87.250000  123.400002  243.539993  30.190001   \n",
       "5160  17.43  65.250000  88.050003  126.739998  255.960007  32.930000   \n",
       "5161  18.09  68.860001  90.239998  128.339996  258.670013  35.080002   \n",
       "\n",
       "             ZTS       BF-B       BRK-B  \n",
       "5157  133.339996  68.690002  176.020004  \n",
       "5158  130.330002  65.650002  174.940002  \n",
       "5159  130.110001  64.779999  174.929993  \n",
       "5160  130.449997  63.540001  180.339996  \n",
       "5161  135.639999  65.820000  185.770004  \n",
       "\n",
       "[5 rows x 506 columns]"
      ]
     },
     "execution_count": 30,
     "metadata": {},
     "output_type": "execute_result"
    }
   ],
   "source": [
    "df.tail()"
   ]
  },
  {
   "cell_type": "markdown",
   "metadata": {},
   "source": [
    "# Save Files"
   ]
  },
  {
   "cell_type": "code",
   "execution_count": 31,
   "metadata": {},
   "outputs": [],
   "source": [
    "df.to_csv('ALL_SP500_Prices.csv', index=False)"
   ]
  },
  {
   "cell_type": "code",
   "execution_count": null,
   "metadata": {},
   "outputs": [],
   "source": []
  }
 ],
 "metadata": {
  "kernelspec": {
   "display_name": "Python 3",
   "language": "python",
   "name": "python3"
  },
  "language_info": {
   "codemirror_mode": {
    "name": "ipython",
    "version": 3
   },
   "file_extension": ".py",
   "mimetype": "text/x-python",
   "name": "python",
   "nbconvert_exporter": "python",
   "pygments_lexer": "ipython3",
   "version": "3.7.6"
  }
 },
 "nbformat": 4,
 "nbformat_minor": 4
}
