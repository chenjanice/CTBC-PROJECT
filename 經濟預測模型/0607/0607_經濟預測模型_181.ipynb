{
 "cells": [
  {
   "cell_type": "code",
   "execution_count": 2,
   "metadata": {},
   "outputs": [],
   "source": [
    "import glob\n",
    "import numpy as np \n",
    "import pandas as pd"
   ]
  },
  {
   "cell_type": "markdown",
   "metadata": {},
   "source": [
    "# 讀入資料"
   ]
  },
  {
   "cell_type": "code",
   "execution_count": 48,
   "metadata": {
    "scrolled": true
   },
   "outputs": [
    {
     "output_type": "execute_result",
     "data": {
      "text/plain": "      PI  PMI  SP500\n0    0.6  1.0   -1.0\n1    0.4  1.0    0.0\n2    0.3  1.0   -1.0\n3    0.4  1.0    0.0\n4    0.4  1.0    0.0\n..   ...  ...    ...\n582  0.6  0.0   -1.0\n583 -0.3  0.0   -1.0\n584  0.8  0.0   -1.0\n585  1.0  0.0    0.0\n586  0.4  0.0    0.0\n\n[587 rows x 3 columns]",
      "text/html": "<div>\n<style scoped>\n    .dataframe tbody tr th:only-of-type {\n        vertical-align: middle;\n    }\n\n    .dataframe tbody tr th {\n        vertical-align: top;\n    }\n\n    .dataframe thead th {\n        text-align: right;\n    }\n</style>\n<table border=\"1\" class=\"dataframe\">\n  <thead>\n    <tr style=\"text-align: right;\">\n      <th></th>\n      <th>PI</th>\n      <th>PMI</th>\n      <th>SP500</th>\n    </tr>\n  </thead>\n  <tbody>\n    <tr>\n      <td>0</td>\n      <td>0.6</td>\n      <td>1.0</td>\n      <td>-1.0</td>\n    </tr>\n    <tr>\n      <td>1</td>\n      <td>0.4</td>\n      <td>1.0</td>\n      <td>0.0</td>\n    </tr>\n    <tr>\n      <td>2</td>\n      <td>0.3</td>\n      <td>1.0</td>\n      <td>-1.0</td>\n    </tr>\n    <tr>\n      <td>3</td>\n      <td>0.4</td>\n      <td>1.0</td>\n      <td>0.0</td>\n    </tr>\n    <tr>\n      <td>4</td>\n      <td>0.4</td>\n      <td>1.0</td>\n      <td>0.0</td>\n    </tr>\n    <tr>\n      <td>...</td>\n      <td>...</td>\n      <td>...</td>\n      <td>...</td>\n    </tr>\n    <tr>\n      <td>582</td>\n      <td>0.6</td>\n      <td>0.0</td>\n      <td>-1.0</td>\n    </tr>\n    <tr>\n      <td>583</td>\n      <td>-0.3</td>\n      <td>0.0</td>\n      <td>-1.0</td>\n    </tr>\n    <tr>\n      <td>584</td>\n      <td>0.8</td>\n      <td>0.0</td>\n      <td>-1.0</td>\n    </tr>\n    <tr>\n      <td>585</td>\n      <td>1.0</td>\n      <td>0.0</td>\n      <td>0.0</td>\n    </tr>\n    <tr>\n      <td>586</td>\n      <td>0.4</td>\n      <td>0.0</td>\n      <td>0.0</td>\n    </tr>\n  </tbody>\n</table>\n<p>587 rows × 3 columns</p>\n</div>"
     },
     "metadata": {},
     "execution_count": 48
    }
   ],
   "source": [
    "data=pd.read_csv('/Users/chenjessie/Desktop/108010_train.csv')\n",
    "data"
   ]
  },
  {
   "cell_type": "markdown",
   "metadata": {},
   "source": [
    "# 統計"
   ]
  },
  {
   "cell_type": "code",
   "execution_count": 49,
   "metadata": {},
   "outputs": [
    {
     "output_type": "execute_result",
     "data": {
      "text/plain": "   SP500  cnt\n0   -1.0   57\n1    0.0  466\n2    1.0   64",
      "text/html": "<div>\n<style scoped>\n    .dataframe tbody tr th:only-of-type {\n        vertical-align: middle;\n    }\n\n    .dataframe tbody tr th {\n        vertical-align: top;\n    }\n\n    .dataframe thead th {\n        text-align: right;\n    }\n</style>\n<table border=\"1\" class=\"dataframe\">\n  <thead>\n    <tr style=\"text-align: right;\">\n      <th></th>\n      <th>SP500</th>\n      <th>cnt</th>\n    </tr>\n  </thead>\n  <tbody>\n    <tr>\n      <td>0</td>\n      <td>-1.0</td>\n      <td>57</td>\n    </tr>\n    <tr>\n      <td>1</td>\n      <td>0.0</td>\n      <td>466</td>\n    </tr>\n    <tr>\n      <td>2</td>\n      <td>1.0</td>\n      <td>64</td>\n    </tr>\n  </tbody>\n</table>\n</div>"
     },
     "metadata": {},
     "execution_count": 49
    }
   ],
   "source": [
    "data.groupby(['SP500'],as_index=False)['SP500'].agg({'cnt':'count'})"
   ]
  },
  {
   "cell_type": "code",
   "execution_count": 50,
   "metadata": {},
   "outputs": [],
   "source": [
    "from sklearn.model_selection import train_test_split\n",
    "x_train,x_test,y_train,y_test = train_test_split(data[['PI','PMI']],data[['SP500']],test_size=0.2,random_state=9)"
   ]
  },
  {
   "cell_type": "markdown",
   "metadata": {},
   "source": [
    "# 標準化x值"
   ]
  },
  {
   "cell_type": "code",
   "execution_count": 51,
   "metadata": {},
   "outputs": [],
   "source": [
    "from sklearn.preprocessing import StandardScaler\n",
    "sc = StandardScaler()\n",
    "sc.fit(x_train)  #可以使用計算得到的均值和方差來對訓練資料做標準化處理\n",
    "x_train_std = sc.transform(x_train)\n",
    "x_test_std = sc.transform(x_test)"
   ]
  },
  {
   "cell_type": "markdown",
   "metadata": {},
   "source": [
    "# SVM\n",
    "- sklearn.svm.SVC(C=1.0, kernel=’rbf’, degree=3, gamma=0.0, coef0=0.0, shrinking=True, probability=False,tol=0.001, cache_size=200, class_weight=None, verbose=False, max_iter=-1, random_state=None)"
   ]
  },
  {
   "cell_type": "markdown",
   "metadata": {},
   "source": [
    "## 1. Sigmoid"
   ]
  },
  {
   "cell_type": "code",
   "execution_count": 69,
   "metadata": {
    "scrolled": true
   },
   "outputs": [
    {
     "output_type": "stream",
     "name": "stdout",
     "text": "Accuracy: 0.711864406779661\n"
    }
   ],
   "source": [
    "from sklearn.svm import SVC\n",
    "from sklearn.metrics import accuracy_score\n",
    "svm = SVC(kernel='sigmoid', probability = True)  #linear/rbf/poly\n",
    "svm.fit(x_train_std,y_train['SP500'].values)\n",
    "x_test_result = svm.predict(x_test_std)\n",
    "print('Accuracy:',accuracy_score(y_test, x_test_result))"
   ]
  },
  {
   "cell_type": "markdown",
   "metadata": {},
   "source": [
    "## 2. poly\n"
   ]
  },
  {
   "cell_type": "code",
   "execution_count": 54,
   "metadata": {},
   "outputs": [
    {
     "output_type": "stream",
     "name": "stdout",
     "text": "Accuracy: 0.7711864406779662\n"
    }
   ],
   "source": [
    "from sklearn.svm import SVC\n",
    "svm = SVC(kernel='poly', probability = True)  #linear/rbf/poly\n",
    "svm.fit(x_train_std,y_train['SP500'].values)\n",
    "x_test_result1 = svm.predict(x_test_std)\n",
    "print('Accuracy:',accuracy_score(y_test, x_test_result1))"
   ]
  },
  {
   "cell_type": "markdown",
   "metadata": {},
   "source": [
    "## 3. rbf"
   ]
  },
  {
   "cell_type": "code",
   "execution_count": 55,
   "metadata": {},
   "outputs": [
    {
     "output_type": "stream",
     "name": "stdout",
     "text": "Accuracy: 0.7711864406779662\n"
    }
   ],
   "source": [
    "from sklearn.svm import SVC\n",
    "svm = SVC(kernel='rbf', probability = True)  #linear/rbf/poly\n",
    "svm.fit(x_train_std,y_train['SP500'].values)\n",
    "x_test_result2 = svm.predict(x_test_std)\n",
    "print('Accuracy:',accuracy_score(y_test, x_test_result2))"
   ]
  },
  {
   "cell_type": "markdown",
   "metadata": {},
   "source": [
    "# Decision Tree\n",
    "- DecisionTreeClassifier(class_weight=None, criterion='gini', max_depth=None,max_features=None, max_leaf_nodes=None,min_impurity_split=1e-07, min_samples_leaf=1,min_samples_split=2, min_weight_fraction_leaf=0.0,presort=False, random_state=None, splitter='best')"
   ]
  },
  {
   "cell_type": "code",
   "execution_count": 68,
   "metadata": {},
   "outputs": [
    {
     "output_type": "stream",
     "name": "stdout",
     "text": "Accuracy: 0.788135593220339\n"
    }
   ],
   "source": [
    "from sklearn.tree import DecisionTreeClassifier\n",
    "tree = DecisionTreeClassifier(criterion = 'gini',max_depth=3) \n",
    "tree.fit(x_train_std,y_train)\n",
    "x_test_result3=tree.predict(x_test_std)\n",
    "print('Accuracy:',accuracy_score(y_test,x_test_result3))"
   ]
  },
  {
   "cell_type": "markdown",
   "metadata": {},
   "source": [
    "# Random Forest"
   ]
  },
  {
   "cell_type": "code",
   "execution_count": 83,
   "metadata": {},
   "outputs": [
    {
     "output_type": "stream",
     "name": "stdout",
     "text": "Accuracy: 0.788135593220339\n"
    }
   ],
   "source": [
    "from sklearn.tree import DecisionTreeClassifier\n",
    "from sklearn.ensemble import BaggingClassifier\n",
    "\n",
    "tree = DecisionTreeClassifier()\n",
    "model = BaggingClassifier(n_estimators=20, max_samples=0.6)\n",
    "\n",
    "model.fit(x_train_std,y_train)\n",
    "x_test_result4=model.predict(x_test_std)\n",
    "print('Accuracy:',accuracy_score(y_test,x_test_result4))"
   ]
  },
  {
   "cell_type": "markdown",
   "metadata": {},
   "source": [
    "# Conclusion"
   ]
  },
  {
   "cell_type": "code",
   "execution_count": 58,
   "metadata": {},
   "outputs": [
    {
     "output_type": "stream",
     "name": "stdout",
     "text": "Micro-averaged precision score: 0.78\nMacro-averaged precision score: 0.37\n"
    }
   ],
   "source": [
    "# Compute the average precision score\n",
    "from sklearn.metrics import precision_score\n",
    "micro_precision = precision_score((y_test.values).reshape(-1), x_test_result4, average='micro')\n",
    "print('Micro-averaged precision score: {0:0.2f}'.format(\n",
    "      micro_precision))\n",
    "\n",
    "macro_precision = precision_score((y_test.values).reshape(-1), x_test_result4, average='macro')\n",
    "print('Macro-averaged precision score: {0:0.2f}'.format(\n",
    "      macro_precision))"
   ]
  },
  {
   "cell_type": "markdown",
   "metadata": {},
   "source": [
    "# How to use Model?\n"
   ]
  },
  {
   "cell_type": "code",
   "execution_count": null,
   "metadata": {},
   "outputs": [],
   "source": [
    "from sklearn.preprocessing import StandardScaler\n",
    "from sklearn.metrics import accuracy_score\n",
    "#標準化x\n",
    "sc = StandardScaler()\n",
    "sc.fit(x)  \n",
    "x_std= sc.transform(x)\n",
    "\n",
    "#選擇方法()\n",
    "#svm = SVC(kernel='sigmoid', probability = True)  #linear/rbf/poly/sigmoid\n",
    "#tree = DecisionTreeClassifier(criterion = 'gini',max_depth=3) \n",
    "#model = BaggingClassifier(n_estimators=20, max_samples=0.6)\n",
    "\n",
    "#預測結果\n",
    "result_svm = svm.predict(x_std)\n",
    "result_DecisionTree = tree.predict(x_std)\n",
    "result_RandomForest = model.predict(x_std)\n"
   ]
  }
 ],
 "metadata": {
  "kernelspec": {
   "display_name": "Python 3",
   "language": "python",
   "name": "python3"
  },
  "language_info": {
   "codemirror_mode": {
    "name": "ipython",
    "version": 3
   },
   "file_extension": ".py",
   "mimetype": "text/x-python",
   "name": "python",
   "nbconvert_exporter": "python",
   "pygments_lexer": "ipython3",
   "version": "3.7.6-final"
  }
 },
 "nbformat": 4,
 "nbformat_minor": 4
}