{
 "cells": [
  {
   "cell_type": "code",
   "execution_count": 1,
   "metadata": {},
   "outputs": [],
   "source": [
    "import glob\n",
    "import numpy as np \n",
    "import pandas as pd"
   ]
  },
  {
   "cell_type": "markdown",
   "metadata": {},
   "source": [
    "# 讀入資料"
   ]
  },
  {
   "cell_type": "code",
   "execution_count": 2,
   "metadata": {
    "scrolled": true
   },
   "outputs": [
    {
     "data": {
      "text/html": [
       "<div>\n",
       "<style scoped>\n",
       "    .dataframe tbody tr th:only-of-type {\n",
       "        vertical-align: middle;\n",
       "    }\n",
       "\n",
       "    .dataframe tbody tr th {\n",
       "        vertical-align: top;\n",
       "    }\n",
       "\n",
       "    .dataframe thead th {\n",
       "        text-align: right;\n",
       "    }\n",
       "</style>\n",
       "<table border=\"1\" class=\"dataframe\">\n",
       "  <thead>\n",
       "    <tr style=\"text-align: right;\">\n",
       "      <th></th>\n",
       "      <th>日期</th>\n",
       "      <th>新屋銷售</th>\n",
       "      <th>新屋開工</th>\n",
       "      <th>成屋銷售</th>\n",
       "      <th>CPI</th>\n",
       "      <th>coreCPI</th>\n",
       "      <th>個人支出</th>\n",
       "      <th>信心</th>\n",
       "      <th>失業率</th>\n",
       "      <th>GDP</th>\n",
       "      <th>predict</th>\n",
       "    </tr>\n",
       "  </thead>\n",
       "  <tbody>\n",
       "    <tr>\n",
       "      <th>0</th>\n",
       "      <td>2020-02-01</td>\n",
       "      <td>76.4</td>\n",
       "      <td>156.7</td>\n",
       "      <td>546</td>\n",
       "      <td>0.1</td>\n",
       "      <td>0.2</td>\n",
       "      <td>0.2</td>\n",
       "      <td>101.000000</td>\n",
       "      <td>3.6</td>\n",
       "      <td>2.10000</td>\n",
       "      <td>3</td>\n",
       "    </tr>\n",
       "    <tr>\n",
       "      <th>1</th>\n",
       "      <td>2020-01-01</td>\n",
       "      <td>69.4</td>\n",
       "      <td>160.8</td>\n",
       "      <td>554</td>\n",
       "      <td>0.2</td>\n",
       "      <td>0.1</td>\n",
       "      <td>0.3</td>\n",
       "      <td>99.800000</td>\n",
       "      <td>3.5</td>\n",
       "      <td>2.10000</td>\n",
       "      <td>1</td>\n",
       "    </tr>\n",
       "    <tr>\n",
       "      <th>2</th>\n",
       "      <td>2019-12-01</td>\n",
       "      <td>71.9</td>\n",
       "      <td>136.5</td>\n",
       "      <td>535</td>\n",
       "      <td>0.3</td>\n",
       "      <td>0.2</td>\n",
       "      <td>0.4</td>\n",
       "      <td>99.300000</td>\n",
       "      <td>3.5</td>\n",
       "      <td>2.10000</td>\n",
       "      <td>1</td>\n",
       "    </tr>\n",
       "    <tr>\n",
       "      <th>3</th>\n",
       "      <td>2019-11-01</td>\n",
       "      <td>73.3</td>\n",
       "      <td>131.4</td>\n",
       "      <td>546</td>\n",
       "      <td>0.4</td>\n",
       "      <td>0.2</td>\n",
       "      <td>0.3</td>\n",
       "      <td>96.800000</td>\n",
       "      <td>3.6</td>\n",
       "      <td>2.10000</td>\n",
       "      <td>2</td>\n",
       "    </tr>\n",
       "    <tr>\n",
       "      <th>4</th>\n",
       "      <td>2019-10-01</td>\n",
       "      <td>70.1</td>\n",
       "      <td>125.6</td>\n",
       "      <td>538</td>\n",
       "      <td>0.0</td>\n",
       "      <td>0.1</td>\n",
       "      <td>0.2</td>\n",
       "      <td>95.500000</td>\n",
       "      <td>3.5</td>\n",
       "      <td>1.90000</td>\n",
       "      <td>2</td>\n",
       "    </tr>\n",
       "    <tr>\n",
       "      <th>...</th>\n",
       "      <td>...</td>\n",
       "      <td>...</td>\n",
       "      <td>...</td>\n",
       "      <td>...</td>\n",
       "      <td>...</td>\n",
       "      <td>...</td>\n",
       "      <td>...</td>\n",
       "      <td>...</td>\n",
       "      <td>...</td>\n",
       "      <td>...</td>\n",
       "      <td>...</td>\n",
       "    </tr>\n",
       "    <tr>\n",
       "      <th>597</th>\n",
       "      <td>1970-05-01</td>\n",
       "      <td>44.5</td>\n",
       "      <td>126.0</td>\n",
       "      <td>151</td>\n",
       "      <td>0.5</td>\n",
       "      <td>0.7</td>\n",
       "      <td>0.6</td>\n",
       "      <td>85.917625</td>\n",
       "      <td>4.6</td>\n",
       "      <td>-0.25408</td>\n",
       "      <td>3</td>\n",
       "    </tr>\n",
       "    <tr>\n",
       "      <th>598</th>\n",
       "      <td>1970-04-01</td>\n",
       "      <td>38.9</td>\n",
       "      <td>132.0</td>\n",
       "      <td>137</td>\n",
       "      <td>0.5</td>\n",
       "      <td>0.8</td>\n",
       "      <td>-0.3</td>\n",
       "      <td>85.917625</td>\n",
       "      <td>4.4</td>\n",
       "      <td>-0.25408</td>\n",
       "      <td>2</td>\n",
       "    </tr>\n",
       "    <tr>\n",
       "      <th>599</th>\n",
       "      <td>1970-03-01</td>\n",
       "      <td>37.3</td>\n",
       "      <td>131.0</td>\n",
       "      <td>146</td>\n",
       "      <td>0.5</td>\n",
       "      <td>0.5</td>\n",
       "      <td>0.8</td>\n",
       "      <td>78.100000</td>\n",
       "      <td>4.2</td>\n",
       "      <td>-0.25408</td>\n",
       "      <td>2</td>\n",
       "    </tr>\n",
       "    <tr>\n",
       "      <th>600</th>\n",
       "      <td>1970-02-01</td>\n",
       "      <td>46.1</td>\n",
       "      <td>109.0</td>\n",
       "      <td>153</td>\n",
       "      <td>0.5</td>\n",
       "      <td>0.5</td>\n",
       "      <td>1.0</td>\n",
       "      <td>85.917625</td>\n",
       "      <td>3.9</td>\n",
       "      <td>-0.25408</td>\n",
       "      <td>1</td>\n",
       "    </tr>\n",
       "    <tr>\n",
       "      <th>601</th>\n",
       "      <td>1970-01-01</td>\n",
       "      <td>45.2</td>\n",
       "      <td>133.0</td>\n",
       "      <td>160</td>\n",
       "      <td>0.5</td>\n",
       "      <td>0.5</td>\n",
       "      <td>0.4</td>\n",
       "      <td>85.917625</td>\n",
       "      <td>3.5</td>\n",
       "      <td>-0.25408</td>\n",
       "      <td>2</td>\n",
       "    </tr>\n",
       "  </tbody>\n",
       "</table>\n",
       "<p>602 rows × 11 columns</p>\n",
       "</div>"
      ],
      "text/plain": [
       "             日期  新屋銷售   新屋開工  成屋銷售  CPI  coreCPI  個人支出          信心  失業率  \\\n",
       "0    2020-02-01  76.4  156.7   546  0.1      0.2   0.2  101.000000  3.6   \n",
       "1    2020-01-01  69.4  160.8   554  0.2      0.1   0.3   99.800000  3.5   \n",
       "2    2019-12-01  71.9  136.5   535  0.3      0.2   0.4   99.300000  3.5   \n",
       "3    2019-11-01  73.3  131.4   546  0.4      0.2   0.3   96.800000  3.6   \n",
       "4    2019-10-01  70.1  125.6   538  0.0      0.1   0.2   95.500000  3.5   \n",
       "..          ...   ...    ...   ...  ...      ...   ...         ...  ...   \n",
       "597  1970-05-01  44.5  126.0   151  0.5      0.7   0.6   85.917625  4.6   \n",
       "598  1970-04-01  38.9  132.0   137  0.5      0.8  -0.3   85.917625  4.4   \n",
       "599  1970-03-01  37.3  131.0   146  0.5      0.5   0.8   78.100000  4.2   \n",
       "600  1970-02-01  46.1  109.0   153  0.5      0.5   1.0   85.917625  3.9   \n",
       "601  1970-01-01  45.2  133.0   160  0.5      0.5   0.4   85.917625  3.5   \n",
       "\n",
       "         GDP  predict  \n",
       "0    2.10000        3  \n",
       "1    2.10000        1  \n",
       "2    2.10000        1  \n",
       "3    2.10000        2  \n",
       "4    1.90000        2  \n",
       "..       ...      ...  \n",
       "597 -0.25408        3  \n",
       "598 -0.25408        2  \n",
       "599 -0.25408        2  \n",
       "600 -0.25408        1  \n",
       "601 -0.25408        2  \n",
       "\n",
       "[602 rows x 11 columns]"
      ]
     },
     "execution_count": 2,
     "metadata": {},
     "output_type": "execute_result"
    }
   ],
   "source": [
    "data=pd.read_csv('/Users/chenjessie/Desktop/經濟預測模型/data/全部.csv')\n",
    "data"
   ]
  },
  {
   "cell_type": "markdown",
   "metadata": {},
   "source": [
    "# 切割成train,test"
   ]
  },
  {
   "cell_type": "code",
   "execution_count": 3,
   "metadata": {},
   "outputs": [],
   "source": [
    "from sklearn.model_selection import train_test_split\n",
    "x_train,x_test,y_train,y_test = train_test_split(data[['新屋銷售','新屋開工','成屋銷售','CPI','coreCPI','個人支出','信心','失業率','GDP']],data[['predict']],test_size=0.3,random_state=0)"
   ]
  },
  {
   "cell_type": "markdown",
   "metadata": {},
   "source": [
    "# 標準化x值"
   ]
  },
  {
   "cell_type": "code",
   "execution_count": 4,
   "metadata": {},
   "outputs": [],
   "source": [
    "from sklearn.preprocessing import StandardScaler\n",
    "sc = StandardScaler()\n",
    "sc.fit(x_train)  #可以使用計算得到的均值和方差來對訓練資料做標準化處理\n",
    "x_train_std = sc.transform(x_train)\n",
    "x_test_std = sc.transform(x_test)"
   ]
  },
  {
   "cell_type": "markdown",
   "metadata": {},
   "source": [
    "# SVM\n",
    "- sklearn.svm.SVC(C=1.0, kernel=’rbf’, degree=3, gamma=0.0, coef0=0.0, shrinking=True, probability=False,tol=0.001, cache_size=200, class_weight=None, verbose=False, max_iter=-1, random_state=None)"
   ]
  },
  {
   "cell_type": "markdown",
   "metadata": {},
   "source": [
    "## 1. linear"
   ]
  },
  {
   "cell_type": "code",
   "execution_count": 5,
   "metadata": {},
   "outputs": [
    {
     "name": "stdout",
     "output_type": "stream",
     "text": [
      "Accuracy: 0.861878453038674\n"
     ]
    }
   ],
   "source": [
    "from sklearn.svm import SVC\n",
    "from sklearn.metrics import accuracy_score\n",
    "svm = SVC(kernel='linear', probability = True)  #linear/rbf/poly\n",
    "svm.fit(x_train_std,y_train['predict'].values)\n",
    "x_test_result = svm.predict(x_test_std)\n",
    "print('Accuracy:',accuracy_score(y_test, x_test_result))"
   ]
  },
  {
   "cell_type": "markdown",
   "metadata": {},
   "source": [
    "## 2. poly\n"
   ]
  },
  {
   "cell_type": "code",
   "execution_count": 6,
   "metadata": {},
   "outputs": [
    {
     "name": "stdout",
     "output_type": "stream",
     "text": [
      "Accuracy: 0.856353591160221\n"
     ]
    }
   ],
   "source": [
    "from sklearn.svm import SVC\n",
    "svm = SVC(kernel='poly', probability = True)  #linear/rbf/poly\n",
    "svm.fit(x_train_std,y_train['predict'].values)\n",
    "x_test_result1 = svm.predict(x_test_std)\n",
    "print('Accuracy:',accuracy_score(y_test, x_test_result1))"
   ]
  },
  {
   "cell_type": "markdown",
   "metadata": {},
   "source": [
    "## 3. rbf"
   ]
  },
  {
   "cell_type": "code",
   "execution_count": 7,
   "metadata": {},
   "outputs": [
    {
     "name": "stdout",
     "output_type": "stream",
     "text": [
      "Accuracy: 0.861878453038674\n"
     ]
    }
   ],
   "source": [
    "from sklearn.svm import SVC\n",
    "svm = SVC(kernel='rbf', probability = True)  #linear/rbf/poly\n",
    "svm.fit(x_train_std,y_train['predict'].values)\n",
    "x_test_result2 = svm.predict(x_test_std)\n",
    "print('Accuracy:',accuracy_score(y_test, x_test_result2))"
   ]
  },
  {
   "cell_type": "markdown",
   "metadata": {},
   "source": [
    "# Decision Tree\n",
    "- DecisionTreeClassifier(class_weight=None, criterion='gini', max_depth=None,max_features=None, max_leaf_nodes=None,min_impurity_split=1e-07, min_samples_leaf=1,min_samples_split=2, min_weight_fraction_leaf=0.0,presort=False, random_state=None, splitter='best')"
   ]
  },
  {
   "cell_type": "code",
   "execution_count": 8,
   "metadata": {},
   "outputs": [
    {
     "name": "stdout",
     "output_type": "stream",
     "text": [
      "Accuracy: 0.861878453038674\n"
     ]
    }
   ],
   "source": [
    "from sklearn.tree import DecisionTreeClassifier\n",
    "tree = DecisionTreeClassifier(criterion = 'gini',max_depth=2) \n",
    "tree.fit(x_train_std,y_train)\n",
    "x_test_result3=tree.predict(x_test_std)\n",
    "print('Accuracy:',accuracy_score(y_test,x_test_result3))"
   ]
  },
  {
   "cell_type": "markdown",
   "metadata": {},
   "source": [
    "# Random Forest"
   ]
  },
  {
   "cell_type": "code",
   "execution_count": 11,
   "metadata": {},
   "outputs": [
    {
     "name": "stdout",
     "output_type": "stream",
     "text": [
      "Accuracy: 0.8453038674033149\n"
     ]
    },
    {
     "name": "stderr",
     "output_type": "stream",
     "text": [
      "/opt/anaconda3/envs/env1/lib/python3.7/site-packages/sklearn/ensemble/_bagging.py:645: DataConversionWarning: A column-vector y was passed when a 1d array was expected. Please change the shape of y to (n_samples, ), for example using ravel().\n",
      "  y = column_or_1d(y, warn=True)\n"
     ]
    }
   ],
   "source": [
    "from sklearn.tree import DecisionTreeClassifier\n",
    "from sklearn.ensemble import BaggingClassifier\n",
    "\n",
    "tree = DecisionTreeClassifier()\n",
    "model = BaggingClassifier(tree, n_estimators=60, max_samples=0.8,)\n",
    "\n",
    "model.fit(x_train_std,y_train)\n",
    "x_test_result4=model.predict(x_test_std)\n",
    "print('Accuracy:',accuracy_score(y_test,x_test_result4))"
   ]
  },
  {
   "cell_type": "markdown",
   "metadata": {},
   "source": [
    "# Conclusion\n",
    "    SVM 的 kernel＝“linear”,\"rbf\"\n",
    "    Decision tree 的max_depth = 2\n",
    "    的準確度為最高，皆為 86.18%"
   ]
  }
 ],
 "metadata": {
  "kernelspec": {
   "display_name": "Python 3",
   "language": "python",
   "name": "python3"
  },
  "language_info": {
   "codemirror_mode": {
    "name": "ipython",
    "version": 3
   },
   "file_extension": ".py",
   "mimetype": "text/x-python",
   "name": "python",
   "nbconvert_exporter": "python",
   "pygments_lexer": "ipython3",
   "version": "3.7.6"
  }
 },
 "nbformat": 4,
 "nbformat_minor": 4
}
