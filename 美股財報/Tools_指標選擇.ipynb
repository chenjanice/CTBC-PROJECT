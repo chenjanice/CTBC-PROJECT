{
 "cells": [
  {
   "cell_type": "code",
   "execution_count": 1,
   "metadata": {},
   "outputs": [],
   "source": [
    "import glob\n",
    "import pandas as pd\n",
    "import datetime\n",
    "from dateutil.relativedelta import relativedelta"
   ]
  },
  {
   "cell_type": "code",
   "execution_count": 2,
   "metadata": {},
   "outputs": [],
   "source": [
    "#建一個空日期\n",
    "dic={}\n",
    "dic['Date']=[]\n",
    "in_date = '2020-01-01'  #（最後的日期）\n",
    "dt = datetime.datetime.strptime(in_date, \"%Y-%m-%d\")\n",
    "\n",
    "#更改日期範圍 （ 0 , 3個月＊4季＊50年 , 3個月 ）\n",
    "for i in range(0,3*4*50+1,3):\n",
    "    dt = datetime.datetime.strptime(in_date, \"%Y-%m-%d\")\n",
    "    dt = (dt-relativedelta(months=i)).strftime(\"%Y-%m-%d\")\n",
    "    dic['Date'].append(dt)\n",
    "new = pd.DataFrame(dic)\n",
    "all_df = new.set_index('Date') "
   ]
  },
  {
   "cell_type": "code",
   "execution_count": 3,
   "metadata": {},
   "outputs": [],
   "source": [
    "#查詢\n",
    "idt = 'Inventories'\n",
    "\n",
    "for file in glob.glob('./Balance/*'):\n",
    "    name = file.split('/')[-1].split('.csv')[0]\n",
    "    df1 = pd.read_csv(file,index_col=0)\n",
    "    df1 = df1.set_index(['0'])\n",
    "    \n",
    "    if idt+'\\xa0\\xa0' in df1.index:\n",
    "        data1 = df1.loc[idt+'\\xa0\\xa0']\n",
    "        data1 = pd.DataFrame(data1)\n",
    "        data1.columns = [name]\n",
    "        try:\n",
    "            all_df = all_df.join(data1)\n",
    "        except:\n",
    "            print('error:',file)\n",
    "all_df = all_df.reindex(sorted(all_df.columns), axis=1)\n",
    "all_df.to_csv(idt+'.csv')"
   ]
  }
 ],
 "metadata": {
  "kernelspec": {
   "display_name": "Python 3",
   "language": "python",
   "name": "python3"
  },
  "language_info": {
   "codemirror_mode": {
    "name": "ipython",
    "version": 3
   },
   "file_extension": ".py",
   "mimetype": "text/x-python",
   "name": "python",
   "nbconvert_exporter": "python",
   "pygments_lexer": "ipython3",
   "version": "3.7.6"
  }
 },
 "nbformat": 4,
 "nbformat_minor": 4
}
