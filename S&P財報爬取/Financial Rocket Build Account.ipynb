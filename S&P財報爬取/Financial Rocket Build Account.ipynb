{
 "cells": [
  {
   "cell_type": "code",
   "execution_count": 5,
   "metadata": {},
   "outputs": [
    {
     "name": "stdout",
     "output_type": "stream",
     "text": [
      "Requirement already satisfied: selenium in c:\\programdata\\anaconda3\\lib\\site-packages (3.141.0)\n",
      "Requirement already satisfied: urllib3 in c:\\programdata\\anaconda3\\lib\\site-packages (from selenium) (1.24.2)\n",
      "Note: you may need to restart the kernel to use updated packages.\n"
     ]
    }
   ],
   "source": [
    "pip install selenium"
   ]
  },
  {
   "cell_type": "code",
   "execution_count": 6,
   "metadata": {},
   "outputs": [],
   "source": [
    "from selenium.webdriver.common.keys import Keys\n",
    "from selenium import webdriver\n",
    "import pandas as pd\n",
    "import requests as req\n",
    "from bs4 import BeautifulSoup"
   ]
  },
  {
   "cell_type": "code",
   "execution_count": 8,
   "metadata": {},
   "outputs": [],
   "source": [
    "driver = webdriver.Chrome()\n",
    "for i in range(100,101):\n",
    "    driver.get(\"https://www.rocketfinancial.com/Register.aspx\")\n",
    "    driver.find_element_by_name(\"txtUsername\").send_keys(\"Tsao0919_{}\".format(i))\n",
    "    driver.find_element_by_name(\"txtPassword\").send_keys(\"asdf30295789\")\n",
    "    driver.find_element_by_name(\"txtPassword2\").send_keys(\"asdf30295789\")\n",
    "    driver.find_element_by_name(\"txtEmail\").send_keys(\"fzx0397{}@eoopy.com\".format(i))\n",
    "    driver.find_element_by_name(\"txtSecurityAnswer\").send_keys(\"1\")\n",
    "    driver.find_element_by_name(\"txtJobTitle\").send_keys(\"1\")\n",
    "    driver.find_element_by_name(\"txtEmployer\").send_keys(\"1\")\n",
    "    driver.find_element_by_name(\"btnSubmit\").click()"
   ]
  },
  {
   "cell_type": "code",
   "execution_count": null,
   "metadata": {},
   "outputs": [],
   "source": []
  }
 ],
 "metadata": {
  "kernelspec": {
   "display_name": "Python 3",
   "language": "python",
   "name": "python3"
  },
  "language_info": {
   "codemirror_mode": {
    "name": "ipython",
    "version": 3
   },
   "file_extension": ".py",
   "mimetype": "text/x-python",
   "name": "python",
   "nbconvert_exporter": "python",
   "pygments_lexer": "ipython3",
   "version": "3.7.4"
  }
 },
 "nbformat": 4,
 "nbformat_minor": 2
}
