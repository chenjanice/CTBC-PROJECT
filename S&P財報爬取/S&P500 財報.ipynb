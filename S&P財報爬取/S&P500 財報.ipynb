{
 "cells": [
  {
   "cell_type": "code",
   "execution_count": 1,
   "metadata": {},
   "outputs": [
    {
     "name": "stdout",
     "output_type": "stream",
     "text": [
      "Requirement already satisfied: selenium in c:\\programdata\\anaconda3\\lib\\site-packages (3.141.0)\n",
      "Requirement already satisfied: urllib3 in c:\\programdata\\anaconda3\\lib\\site-packages (from selenium) (1.24.2)\n",
      "Note: you may need to restart the kernel to use updated packages.\n"
     ]
    }
   ],
   "source": [
    "pip install selenium"
   ]
  },
  {
   "cell_type": "code",
   "execution_count": 2,
   "metadata": {},
   "outputs": [],
   "source": [
    "from selenium.webdriver.common.keys import Keys\n",
    "from selenium import webdriver\n",
    "import pandas as pd\n",
    "import requests as req\n",
    "from bs4 import BeautifulSoup"
   ]
  },
  {
   "cell_type": "code",
   "execution_count": 3,
   "metadata": {},
   "outputs": [],
   "source": [
    "driver = webdriver.Chrome()"
   ]
  },
  {
   "cell_type": "code",
   "execution_count": 17,
   "metadata": {},
   "outputs": [],
   "source": [
    "driver.get(\"https://www.rocketfinancial.com/Dashboard.aspx?pID=0\")\n",
    "url = driver.current_url\n",
    "url = url.replace(\"Dashboard.aspx?pID=0\", \"Login.aspx\")\n",
    "driver.get(url)\n",
    "driver.find_element_by_name(\"username\").send_keys(\"Tsao0919_4\")\n",
    "driver.find_element_by_name(\"password\").send_keys(\"asdf30295789\")\n",
    "driver.find_element_by_name(\"btnLogin\").click()"
   ]
  },
  {
   "cell_type": "code",
   "execution_count": 16,
   "metadata": {
    "scrolled": true
   },
   "outputs": [
    {
     "name": "stdout",
     "output_type": "stream",
     "text": [
      "FLIR FLS FLR FMC FL F FTV FBHS BEN FCX GPS GRMN IT GD GE GGP GIS GM GPC GILD GPN GS GT GWW HAL HBI HOG HRS HIG HAS HCA HCP HP HSIC HES HPE HLT HOLX HD HON HRL HST HPQ HUM HBAN HII IDXX INFO ITW ILMN INCY IR INTC ICE IBM IP IPG IFF INTU ISRG IVZ IPGP IQV IRM JBHT JEC SJM JNJ JCI JPM JNPR KSU K KEY KMB KIM KMI KLAC KSS KHC KR LB LLL LH LRCX LEG LEN LUK LLY LNC LKQ LMT L LOW LYB MTB MAC M MRO MPC MAR MMC MLM MAS MA MAT MKC MCD MCK MDT MRK MET MTD MGM KORS MCHP MU MSFT MAA MHK TAP MDLZ MON MNST MCO MS MSI MYL NDAQ NOV NAVI NKTR NTAP NFLX NWL NFX NEM NWSA NWS NEE NLSN NKE NI NBL JWN NSC NTRS NOC NCLH NRG NUE NVDA ORLY OXY OMC OKE ORCL PCAR PKG PH PAYX PYPL PNR PBCT PEP PKI PRGO PFE PCG PM PSX PNW PXD PNC RL PPG PPL PX PFG PG PGR PLD PRU PEG PSA PHM PVH QRVO QCOM PWR DGX RRC RJF RTN O RHT REG REGN RF RSG RMD RHI ROK COL ROP ROST RCL SPGI CRM SBAC SCG SLB STX SEE SRE SHW SPG SWKS SLG SNA SO LUV SWK SBUX STT SRCL SYK STI SIVB SYMC SYF SNPS SYY TROW TTWO TPR TGT TEL FTI TXN TXT BK CLX COO HSY MOS TRV DIS TMO TIF TWX TJX TMK TSS TSCO TDG TRIP FOXA FOX TSN USB UDR ULTA UAA UA UNP UAL UNH UPS URI UTX UHS UNM VFC VLO VAR VTR VRSN VRSK VZ VRTX VIAB V VNO VMC WMT WBA WM WAT WEC WFC WELL WDC WU WRK WY WHR WMB WLTW WYN WYNN XEL XRX XLNX XL XYL YUM ZBH ZION ZTS\n"
     ]
    }
   ],
   "source": [
    "##股池\n",
    "Stocklist = [i for i in input().split()]"
   ]
  },
  {
   "cell_type": "code",
   "execution_count": 18,
   "metadata": {},
   "outputs": [
    {
     "ename": "NoSuchElementException",
     "evalue": "Message: no such element: Unable to locate element: {\"method\":\"css selector\",\"selector\":\"[id=\"ctrlPeriodBar_Quarterly\"]\"}\n  (Session info: chrome=81.0.4044.138)\n",
     "output_type": "error",
     "traceback": [
      "\u001b[1;31m---------------------------------------------------------------------------\u001b[0m",
      "\u001b[1;31mNoSuchElementException\u001b[0m                    Traceback (most recent call last)",
      "\u001b[1;32m<ipython-input-18-c58b78931582>\u001b[0m in \u001b[0;36m<module>\u001b[1;34m\u001b[0m\n\u001b[0;32m      6\u001b[0m     \u001b[0murl\u001b[0m \u001b[1;33m=\u001b[0m \u001b[0murl\u001b[0m \u001b[1;33m+\u001b[0m \u001b[1;34m\"&rID=1&stID=3\"\u001b[0m\u001b[1;33m\u001b[0m\u001b[1;33m\u001b[0m\u001b[0m\n\u001b[0;32m      7\u001b[0m     \u001b[0mdriver\u001b[0m\u001b[1;33m.\u001b[0m\u001b[0mget\u001b[0m\u001b[1;33m(\u001b[0m\u001b[0murl\u001b[0m\u001b[1;33m)\u001b[0m\u001b[1;33m\u001b[0m\u001b[1;33m\u001b[0m\u001b[0m\n\u001b[1;32m----> 8\u001b[1;33m     \u001b[0mdriver\u001b[0m\u001b[1;33m.\u001b[0m\u001b[0mfind_element_by_id\u001b[0m\u001b[1;33m(\u001b[0m\u001b[1;34m\"ctrlPeriodBar_Quarterly\"\u001b[0m\u001b[1;33m)\u001b[0m\u001b[1;33m.\u001b[0m\u001b[0mclick\u001b[0m\u001b[1;33m(\u001b[0m\u001b[1;33m)\u001b[0m\u001b[1;33m\u001b[0m\u001b[1;33m\u001b[0m\u001b[0m\n\u001b[0m\u001b[0;32m      9\u001b[0m     header = {\"User-Agent\": \"Mozilla/5.0 (X11; Linux x86_64) AppleWebKit/537.36 (KHTML, like Gecko) Chrome/50.0.2661.75 Safari/537.36\",\n\u001b[0;32m     10\u001b[0m       \"X-Requested-With\": \"XMLHttpRequest\"}\n",
      "\u001b[1;32mC:\\ProgramData\\Anaconda3\\lib\\site-packages\\selenium\\webdriver\\remote\\webdriver.py\u001b[0m in \u001b[0;36mfind_element_by_id\u001b[1;34m(self, id_)\u001b[0m\n\u001b[0;32m    358\u001b[0m             \u001b[0melement\u001b[0m \u001b[1;33m=\u001b[0m \u001b[0mdriver\u001b[0m\u001b[1;33m.\u001b[0m\u001b[0mfind_element_by_id\u001b[0m\u001b[1;33m(\u001b[0m\u001b[1;34m'foo'\u001b[0m\u001b[1;33m)\u001b[0m\u001b[1;33m\u001b[0m\u001b[1;33m\u001b[0m\u001b[0m\n\u001b[0;32m    359\u001b[0m         \"\"\"\n\u001b[1;32m--> 360\u001b[1;33m         \u001b[1;32mreturn\u001b[0m \u001b[0mself\u001b[0m\u001b[1;33m.\u001b[0m\u001b[0mfind_element\u001b[0m\u001b[1;33m(\u001b[0m\u001b[0mby\u001b[0m\u001b[1;33m=\u001b[0m\u001b[0mBy\u001b[0m\u001b[1;33m.\u001b[0m\u001b[0mID\u001b[0m\u001b[1;33m,\u001b[0m \u001b[0mvalue\u001b[0m\u001b[1;33m=\u001b[0m\u001b[0mid_\u001b[0m\u001b[1;33m)\u001b[0m\u001b[1;33m\u001b[0m\u001b[1;33m\u001b[0m\u001b[0m\n\u001b[0m\u001b[0;32m    361\u001b[0m \u001b[1;33m\u001b[0m\u001b[0m\n\u001b[0;32m    362\u001b[0m     \u001b[1;32mdef\u001b[0m \u001b[0mfind_elements_by_id\u001b[0m\u001b[1;33m(\u001b[0m\u001b[0mself\u001b[0m\u001b[1;33m,\u001b[0m \u001b[0mid_\u001b[0m\u001b[1;33m)\u001b[0m\u001b[1;33m:\u001b[0m\u001b[1;33m\u001b[0m\u001b[1;33m\u001b[0m\u001b[0m\n",
      "\u001b[1;32mC:\\ProgramData\\Anaconda3\\lib\\site-packages\\selenium\\webdriver\\remote\\webdriver.py\u001b[0m in \u001b[0;36mfind_element\u001b[1;34m(self, by, value)\u001b[0m\n\u001b[0;32m    976\u001b[0m         return self.execute(Command.FIND_ELEMENT, {\n\u001b[0;32m    977\u001b[0m             \u001b[1;34m'using'\u001b[0m\u001b[1;33m:\u001b[0m \u001b[0mby\u001b[0m\u001b[1;33m,\u001b[0m\u001b[1;33m\u001b[0m\u001b[1;33m\u001b[0m\u001b[0m\n\u001b[1;32m--> 978\u001b[1;33m             'value': value})['value']\n\u001b[0m\u001b[0;32m    979\u001b[0m \u001b[1;33m\u001b[0m\u001b[0m\n\u001b[0;32m    980\u001b[0m     \u001b[1;32mdef\u001b[0m \u001b[0mfind_elements\u001b[0m\u001b[1;33m(\u001b[0m\u001b[0mself\u001b[0m\u001b[1;33m,\u001b[0m \u001b[0mby\u001b[0m\u001b[1;33m=\u001b[0m\u001b[0mBy\u001b[0m\u001b[1;33m.\u001b[0m\u001b[0mID\u001b[0m\u001b[1;33m,\u001b[0m \u001b[0mvalue\u001b[0m\u001b[1;33m=\u001b[0m\u001b[1;32mNone\u001b[0m\u001b[1;33m)\u001b[0m\u001b[1;33m:\u001b[0m\u001b[1;33m\u001b[0m\u001b[1;33m\u001b[0m\u001b[0m\n",
      "\u001b[1;32mC:\\ProgramData\\Anaconda3\\lib\\site-packages\\selenium\\webdriver\\remote\\webdriver.py\u001b[0m in \u001b[0;36mexecute\u001b[1;34m(self, driver_command, params)\u001b[0m\n\u001b[0;32m    319\u001b[0m         \u001b[0mresponse\u001b[0m \u001b[1;33m=\u001b[0m \u001b[0mself\u001b[0m\u001b[1;33m.\u001b[0m\u001b[0mcommand_executor\u001b[0m\u001b[1;33m.\u001b[0m\u001b[0mexecute\u001b[0m\u001b[1;33m(\u001b[0m\u001b[0mdriver_command\u001b[0m\u001b[1;33m,\u001b[0m \u001b[0mparams\u001b[0m\u001b[1;33m)\u001b[0m\u001b[1;33m\u001b[0m\u001b[1;33m\u001b[0m\u001b[0m\n\u001b[0;32m    320\u001b[0m         \u001b[1;32mif\u001b[0m \u001b[0mresponse\u001b[0m\u001b[1;33m:\u001b[0m\u001b[1;33m\u001b[0m\u001b[1;33m\u001b[0m\u001b[0m\n\u001b[1;32m--> 321\u001b[1;33m             \u001b[0mself\u001b[0m\u001b[1;33m.\u001b[0m\u001b[0merror_handler\u001b[0m\u001b[1;33m.\u001b[0m\u001b[0mcheck_response\u001b[0m\u001b[1;33m(\u001b[0m\u001b[0mresponse\u001b[0m\u001b[1;33m)\u001b[0m\u001b[1;33m\u001b[0m\u001b[1;33m\u001b[0m\u001b[0m\n\u001b[0m\u001b[0;32m    322\u001b[0m             response['value'] = self._unwrap_value(\n\u001b[0;32m    323\u001b[0m                 response.get('value', None))\n",
      "\u001b[1;32mC:\\ProgramData\\Anaconda3\\lib\\site-packages\\selenium\\webdriver\\remote\\errorhandler.py\u001b[0m in \u001b[0;36mcheck_response\u001b[1;34m(self, response)\u001b[0m\n\u001b[0;32m    240\u001b[0m                 \u001b[0malert_text\u001b[0m \u001b[1;33m=\u001b[0m \u001b[0mvalue\u001b[0m\u001b[1;33m[\u001b[0m\u001b[1;34m'alert'\u001b[0m\u001b[1;33m]\u001b[0m\u001b[1;33m.\u001b[0m\u001b[0mget\u001b[0m\u001b[1;33m(\u001b[0m\u001b[1;34m'text'\u001b[0m\u001b[1;33m)\u001b[0m\u001b[1;33m\u001b[0m\u001b[1;33m\u001b[0m\u001b[0m\n\u001b[0;32m    241\u001b[0m             \u001b[1;32mraise\u001b[0m \u001b[0mexception_class\u001b[0m\u001b[1;33m(\u001b[0m\u001b[0mmessage\u001b[0m\u001b[1;33m,\u001b[0m \u001b[0mscreen\u001b[0m\u001b[1;33m,\u001b[0m \u001b[0mstacktrace\u001b[0m\u001b[1;33m,\u001b[0m \u001b[0malert_text\u001b[0m\u001b[1;33m)\u001b[0m\u001b[1;33m\u001b[0m\u001b[1;33m\u001b[0m\u001b[0m\n\u001b[1;32m--> 242\u001b[1;33m         \u001b[1;32mraise\u001b[0m \u001b[0mexception_class\u001b[0m\u001b[1;33m(\u001b[0m\u001b[0mmessage\u001b[0m\u001b[1;33m,\u001b[0m \u001b[0mscreen\u001b[0m\u001b[1;33m,\u001b[0m \u001b[0mstacktrace\u001b[0m\u001b[1;33m)\u001b[0m\u001b[1;33m\u001b[0m\u001b[1;33m\u001b[0m\u001b[0m\n\u001b[0m\u001b[0;32m    243\u001b[0m \u001b[1;33m\u001b[0m\u001b[0m\n\u001b[0;32m    244\u001b[0m     \u001b[1;32mdef\u001b[0m \u001b[0m_value_or_default\u001b[0m\u001b[1;33m(\u001b[0m\u001b[0mself\u001b[0m\u001b[1;33m,\u001b[0m \u001b[0mobj\u001b[0m\u001b[1;33m,\u001b[0m \u001b[0mkey\u001b[0m\u001b[1;33m,\u001b[0m \u001b[0mdefault\u001b[0m\u001b[1;33m)\u001b[0m\u001b[1;33m:\u001b[0m\u001b[1;33m\u001b[0m\u001b[1;33m\u001b[0m\u001b[0m\n",
      "\u001b[1;31mNoSuchElementException\u001b[0m: Message: no such element: Unable to locate element: {\"method\":\"css selector\",\"selector\":\"[id=\"ctrlPeriodBar_Quarterly\"]\"}\n  (Session info: chrome=81.0.4044.138)\n"
     ]
    }
   ],
   "source": [
    "for stock in Stocklist:\n",
    "    driver.find_element_by_class_name(\"searchWatermark\").send_keys(stock)\n",
    "    driver.find_element_by_id(\"ctrlHeader_searchBar_txtSearch\").send_keys(Keys.ENTER)\n",
    "    url = driver.current_url\n",
    "    url = url.replace(\"Overview\", \"Financials\")\n",
    "    url = url + \"&rID=1&stID=3\"\n",
    "    driver.get(url)\n",
    "    driver.find_element_by_id(\"ctrlPeriodBar_Quarterly\").click()\n",
    "    header = {\"User-Agent\": \"Mozilla/5.0 (X11; Linux x86_64) AppleWebKit/537.36 (KHTML, like Gecko) Chrome/50.0.2661.75 Safari/537.36\",\n",
    "      \"X-Requested-With\": \"XMLHttpRequest\"}\n",
    "    r = req.get(url, headers=header)\n",
    "    ########IncomeStatement 1#########\n",
    "    try:\n",
    "        soup = BeautifulSoup(driver.page_source, 'html.parser')\n",
    "        for block in soup.find_all('table',{'class':'gridView'}):\n",
    "            da = block.find_all('tr')\n",
    "            append_row = {}\n",
    "            col=[]\n",
    "            for i in (da[0].find_all('th')):\n",
    "                col.append((i.text))\n",
    "\n",
    "            df = pd.DataFrame(columns=col)\n",
    "            for s in range(1, len(da)):\n",
    "                ind={}\n",
    "                z = da[0].find_all('th')\n",
    "                p = da[s].find_all('td')\n",
    "                for m in range(len(p)):\n",
    "                    ind['{}'.format(z[m].text)] = p[m].text\n",
    "                df = df.append(ind, ignore_index=True)\n",
    "\n",
    "            df.to_csv(r'C:\\Users\\a0971\\Documents\\project_CTBC\\S&P500\\IncomeStatement\\{}_Income_Statement.csv'.format(stock), encoding='utf-8', index=False)\n",
    "    except:\n",
    "        print(\"No data\")\n",
    "    #######IncomeStatement 結束#######\n",
    "    url2 = url.replace(\"&rID=1&stID=3\", \"&rID=2\")\n",
    "    driver.get(url2) \n",
    "    driver.find_element_by_id(\"ctrlPeriodBar_Quarterly\").click()\n",
    "    ######BalanceSheet 1###########\n",
    "    try:\n",
    "        soup = BeautifulSoup(driver.page_source, 'html.parser')\n",
    "        for block in soup.find_all('table',{'class':'gridView'}):\n",
    "            da = block.find_all('tr')\n",
    "            append_row = {}\n",
    "            col=[]\n",
    "            for i in (da[0].find_all('th')):\n",
    "                col.append((i.text))\n",
    "\n",
    "            df = pd.DataFrame(columns=col)\n",
    "            for s in range(1, len(da)):\n",
    "                ind={}\n",
    "                z = da[0].find_all('th')\n",
    "                p = da[s].find_all('td')\n",
    "                for m in range(len(p)):\n",
    "                    ind['{}'.format(z[m].text)] = p[m].text\n",
    "                df = df.append(ind, ignore_index=True)\n",
    "\n",
    "            df.to_csv(r'C:\\Users\\a0971\\Documents\\project_CTBC\\S&P500\\BalanceSheet\\{}_Balance_Sheets.csv'.format(stock), encoding='utf-8', index=False)\n",
    "    except:\n",
    "        print(\"no data\")\n",
    "    ######BalanceSheet 結束##########\n",
    "    url3 = url2.replace(\"&rID=2\", \"&rID=3\")\n",
    "    driver.get(url3)\n",
    "    driver.find_element_by_id(\"ctrlPeriodBar_Quarterly\").click()\n",
    "    #####CashFlow Statement 1#######\n",
    "    try:\n",
    "        soup = BeautifulSoup(driver.page_source, 'html.parser')\n",
    "        for block in soup.find_all('table',{'class':'gridView'}):\n",
    "            da = block.find_all('tr')\n",
    "            append_row = {}\n",
    "            col=[]\n",
    "            for i in (da[0].find_all('th')):\n",
    "                col.append((i.text))\n",
    "\n",
    "            df = pd.DataFrame(columns=col)\n",
    "            for s in range(1, len(da)):\n",
    "                ind={}\n",
    "                z = da[0].find_all('th')\n",
    "                p = da[s].find_all('td')\n",
    "                for m in range(len(p)):\n",
    "                    ind['{}'.format(z[m].text)] = p[m].text\n",
    "                df = df.append(ind, ignore_index=True)\n",
    "\n",
    "            df.to_csv(r'C:\\Users\\a0971\\Documents\\project_CTBC\\S&P500\\CashFlowStatement\\{}_CashFlow_Statements.csv'.format(stock), encoding='utf-8', index=False)\n",
    "    except:\n",
    "        print(\"no data\")\n",
    "       "
   ]
  },
  {
   "cell_type": "code",
   "execution_count": null,
   "metadata": {},
   "outputs": [],
   "source": []
  }
 ],
 "metadata": {
  "kernelspec": {
   "display_name": "Python 3",
   "language": "python",
   "name": "python3"
  },
  "language_info": {
   "codemirror_mode": {
    "name": "ipython",
    "version": 3
   },
   "file_extension": ".py",
   "mimetype": "text/x-python",
   "name": "python",
   "nbconvert_exporter": "python",
   "pygments_lexer": "ipython3",
   "version": "3.7.4"
  }
 },
 "nbformat": 4,
 "nbformat_minor": 2
}
